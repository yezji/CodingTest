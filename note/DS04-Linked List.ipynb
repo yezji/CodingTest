{
 "cells": [
  {
   "cell_type": "markdown",
   "metadata": {},
   "source": [
    "# Linked List\n",
    "### 1. Linked List (대표적인 자료구조)\n",
    "- =연결 리스트\n",
    "- 링크드 리스트는 떨어진 곳에 존재하는 데이터를 화살표로 연결해서 관리하는 데이터 구조\n",
    "    - *배열*은 순차적으로 연결된 공간에 데이터를 나열하는 데이터 구조\n",
    "    - 배열의 단점을 극복\n",
    "- 본래 C언어에서는 주요한 데이터 구조이지만, 파이썬은 List타입이 링크드 리스트의 기능을 모두 지원\n",
    "\n",
    "- 링크드 리스트 기본 구조와 용어\n",
    "    - 노드(Node) : 데이터 저장 단위 (데이터값, 포인터)\n",
    "    - 포인터(Pointer) : 각 노드 안에서, 다음이나 이전의 노드와의 연결 정보를 가지는 공간"
   ]
  },
  {
   "cell_type": "markdown",
   "metadata": {},
   "source": [
    "### 2. 간단한 링크드 리스트 예\n",
    "- Node 구현\n",
    "    - 보통 파이썬에서 링크드 리스트 구현 시, 파이썬 클래스를 활용함\n",
    "        - 파이썬 객체지향 문법 이해 필요"
   ]
  },
  {
   "cell_type": "code",
   "execution_count": null,
   "metadata": {},
   "outputs": [],
   "source": [
    "class Node:\n",
    "    def __init__(self, data, next=None):\n",
    "        self.data = data\n",
    "        self.next = next"
   ]
  },
  {
   "cell_type": "markdown",
   "metadata": {},
   "source": [
    "- Node 연결"
   ]
  },
  {
   "cell_type": "code",
   "execution_count": null,
   "metadata": {},
   "outputs": [],
   "source": [
    "node1 = Node(100)\n",
    "node2 = Node(200)\n",
    "\n",
    "node1.next = node2 #두 노드 연결\n",
    "head = node1 #가장 앞의 주소"
   ]
  },
  {
   "cell_type": "markdown",
   "metadata": {},
   "source": [
    "- 데이터 추가"
   ]
  },
  {
   "cell_type": "code",
   "execution_count": null,
   "metadata": {},
   "outputs": [],
   "source": [
    "def add(data):\n",
    "    node = head\n",
    "    while node.next:\n",
    "        node = node.next\n",
    "    node.next = Node(data)"
   ]
  },
  {
   "cell_type": "code",
   "execution_count": null,
   "metadata": {},
   "outputs": [],
   "source": [
    "for index in range(1, 10):\n",
    "    add(index)"
   ]
  },
  {
   "cell_type": "markdown",
   "metadata": {},
   "source": [
    "- 데이터 출력"
   ]
  },
  {
   "cell_type": "code",
   "execution_count": null,
   "metadata": {
    "tags": []
   },
   "outputs": [],
   "source": [
    "node = head\n",
    "while node.next:\n",
    "    print(node.data)\n",
    "    node = node.next\n",
    "print(node.data)"
   ]
  },
  {
   "cell_type": "markdown",
   "metadata": {},
   "source": [
    "### 3. 링크드 리스트의 장단점(전통적인 C언어에서의 배열과 링크드 리스트)\n",
    "- 장점\n",
    "    - <u>데이터 공간을 미리 할당하지 않아도 됨</u>\n",
    "        - 배열은 미리 데이터 공간을 할당해야 함\n",
    "- 단점\n",
    "    - 연결을 위한 별도 데이터 공간이 필요하므로, <u>저장공간 효율이 높지 않음</u>\n",
    "    - 연결 정보를 찾는 시간이 필요하므로 <u>접근 속도가 느림</u>\n",
    "    - <u>중간 데이터 삭제 시, 앞뒤 데이터의 연결을 재구성</u>해야 하는 부가적인 작업 필요"
   ]
  },
  {
   "cell_type": "markdown",
   "metadata": {},
   "source": [
    "### 4. 링크드 리스트의 복잡한 기능 1 (연결된 데이터 사이에 데이터 추가)\n",
    "- 링크드 리스트는 유지 관리에 부가적인 구현이 필요"
   ]
  },
  {
   "cell_type": "code",
   "execution_count": null,
   "metadata": {},
   "outputs": [],
   "source": [
    "node3 = Node(1.5)"
   ]
  },
  {
   "cell_type": "code",
   "execution_count": null,
   "metadata": {},
   "outputs": [],
   "source": [
    "node = head\n",
    "search = True\n",
    "while search:\n",
    "    if node.data == 1: #끼워 넣을 위치\n",
    "        search = False\n",
    "    else:\n",
    "        node = node.next\n",
    "    \n",
    "node_next = node.next\n",
    "node.next = node3\n",
    "node3.next = node_next"
   ]
  },
  {
   "cell_type": "code",
   "execution_count": null,
   "metadata": {
    "tags": []
   },
   "outputs": [],
   "source": [
    "node = head\n",
    "while node.next:\n",
    "    print(node.data)\n",
    "    node = node.next\n",
    "print(node.data)"
   ]
  },
  {
   "cell_type": "markdown",
   "metadata": {},
   "source": [
    "### 5. 링크드 리스트의 복잡한 기능 2 (특정 노드 삭제)\n",
    "- 다음 코드는 위의 코드에서 delete 메서드만 추가한 것이므로 해당 메서드만 확인하면 됨\n",
    "\n",
    "- 삭제 case\n",
    "    1. head 삭제\n",
    "    2. 마지막 노드 삭제\n",
    "    3. 중간 노드 삭제"
   ]
  },
  {
   "cell_type": "markdown",
   "metadata": {},
   "source": [
    "#### 링크드 리스트 구현"
   ]
  },
  {
   "cell_type": "code",
   "execution_count": null,
   "metadata": {},
   "outputs": [],
   "source": [
    "class MyNode:\n",
    "    def __init__(self, data, next=None):\n",
    "        self.data = data\n",
    "        self.next = next\n",
    "        \n",
    "class MyLinkedList:\n",
    "    def __init__(self):\n",
    "        self.head = None\n",
    "\n",
    "    def add(self, data):\n",
    "        node = self.head\n",
    "        if node == None:\n",
    "            self.head = MyNode(data)\n",
    "        else:\n",
    "            while node.next:\n",
    "                node = node.next\n",
    "            node.next = MyNode(data)\n",
    "\n",
    "    def delete(self, data):\n",
    "        if self.head == None: # 0. 삭제할 head가 없을 시\n",
    "            print(\"해당 값을 가진 노드가 없습니다.\")\n",
    "            return\n",
    "        if self.head.data == data: # 1. 헤드 노드 삭제 시\n",
    "            tmp = self.head\n",
    "            self.head = self.head.next\n",
    "            del tmp\n",
    "        else:\n",
    "            node = self.head\n",
    "            while node.next: # 2. 마지막 노드 & 3. 중간 노드 삭제 시\n",
    "                if node.next.data == data:\n",
    "                    tmp = node.next #삭제할 노드\n",
    "                    node.next = node.next.next\n",
    "                    del tmp\n",
    "                    return\n",
    "                else:\n",
    "                    node = node.next\n",
    "        \n",
    "    def desc(self):\n",
    "        node = self.head\n",
    "        while node.next:\n",
    "            print(node.data)\n",
    "            node = node.next\n",
    "            if node.next == None:\n",
    "                print(node.data)\n",
    "\n",
    "    def search_node(self, data):\n",
    "        node = self.head\n",
    "        while node.next:\n",
    "            if node.data == data:\n",
    "                print(node.data)\n",
    "                return\n",
    "            node = node.next"
   ]
  },
  {
   "cell_type": "code",
   "execution_count": null,
   "metadata": {
    "tags": []
   },
   "outputs": [],
   "source": [
    "linkedlist1 = MyLinkedList()\n",
    "\n",
    "for idx in range(10):\n",
    "    linkedlist1.add(idx)\n",
    "\n",
    "linkedlist1.desc()"
   ]
  },
  {
   "cell_type": "code",
   "execution_count": null,
   "metadata": {
    "tags": []
   },
   "outputs": [],
   "source": [
    "linkedlist1.delete(1)\n",
    "linkedlist1.delete(9)\n",
    "linkedlist1.desc()"
   ]
  },
  {
   "cell_type": "markdown",
   "metadata": {},
   "source": [
    "- 특정 숫자를 가지는 노드 찾는 함수 만들기"
   ]
  },
  {
   "cell_type": "code",
   "execution_count": null,
   "metadata": {
    "tags": []
   },
   "outputs": [],
   "source": [
    "linkedlist1.search_node(4)"
   ]
  },
  {
   "cell_type": "markdown",
   "metadata": {},
   "source": [
    "### 6. 다양한 링크드 리스트 구조\n",
    "- 더블 링크드 리스트\n",
    "    - 이중 연결 리스트\n",
    "        - 이전 노드 주소, 다음 노드 주소 까지 가짐\n",
    "    - 장점 : 기존 링크드리스트의 단점 보완하여 뒤에서 부터도 검색 가능"
   ]
  },
  {
   "cell_type": "code",
   "execution_count": null,
   "metadata": {},
   "outputs": [],
   "source": [
    "class MyNode:\n",
    "    def __init__(self, data, prev=None, next=None):\n",
    "        self.data = data\n",
    "        self.prev = prev\n",
    "        self.next = next\n",
    "\n",
    "class MyDoubleLinkedList:\n",
    "    def __init__(self, data):\n",
    "        self.head = Node(data)\n",
    "        self.tail = self.head\n",
    "\n",
    "    def insert(self, data):\n",
    "        if self.head == None:\n",
    "            self.head = Node(data)\n",
    "            self.tail = self.head\n",
    "        else:\n",
    "            node = self.head\n",
    "            while node.next: # 마지막 노드 찾기 위한 과정\n",
    "                node = node.next\n",
    "            \n",
    "            new = Node(data)\n",
    "            node.next = new # 마지막 찾고 그 뒤에 새 노드\n",
    "            new.prev = node\n",
    "            self.tail = new\n",
    "\n",
    "    def desc(self):\n",
    "        node = self.head\n",
    "        while node.next:\n",
    "            print(node.data)\n",
    "            node = node.next\n",
    "        print(node.data)"
   ]
  },
  {
   "cell_type": "code",
   "execution_count": null,
   "metadata": {
    "tags": []
   },
   "outputs": [],
   "source": [
    "doublelinkedlist = MyDoubleLinkedList(0)\n",
    "for index in range(1, 10):\n",
    "    doublelinkedlist.insert(index)\n",
    "\n",
    "doublelinkedlist.desc()"
   ]
  },
  {
   "cell_type": "markdown",
   "metadata": {},
   "source": [
    "- 연습 3 : 위 코드에서 노드 데이터가 특정 숫자인 노드 앞에 데이터를 추가하는 함수를 만들고, 테스트 해보기\n",
    "    - 더블 링크드 리스트의 tail에서부터 뒤로 이동\n",
    "    - 데이터 값이 2인 노드 앞에 1.5 데이터 값을 가진 노드 추가하기"
   ]
  },
  {
   "cell_type": "markdown",
   "metadata": {},
   "source": [
    "- 연습 4 : 위 코드에서 노드 데이터가 특정 숫자인 노드 앞에 데이터를 추가하는 함수를 만들고, 테스트 해보기\n",
    "    - 더블 링크드 리스트의 head에서부터 다음으로 이동\n",
    "    - 데이터 값이 1인 노드 다음에 1.7 데이터 값을 가진 노드 추가하기"
   ]
  },
  {
   "cell_type": "code",
   "execution_count": 134,
   "metadata": {},
   "outputs": [],
   "source": [
    "class MyNode:\n",
    "    def __init__(self, data, prev=None, next=None):\n",
    "        self.data = data\n",
    "        self.prev = prev\n",
    "        self.next = next\n",
    "\n",
    "class MyDoubleLinkedList:\n",
    "    def __init__(self, data):\n",
    "        self.head = MyNode(data)\n",
    "        self.tail = self.head\n",
    "\n",
    "    def insert(self, data):\n",
    "        if self.head == None:\n",
    "            self.head = MyNode(data)\n",
    "            self.tail = self.head\n",
    "        else:\n",
    "            node = self.head\n",
    "            while node.next: # 마지막 노드 찾기 위한 과정\n",
    "                node = node.next\n",
    "            \n",
    "            new = MyNode(data)\n",
    "            node.next = new # 마지막 찾고 그 뒤에 새 노드\n",
    "            new.prev = node\n",
    "            self.tail = new\n",
    "\n",
    "    def desc(self):\n",
    "        node = self.head\n",
    "        while node.next:\n",
    "            print(node.data)\n",
    "            node = node.next\n",
    "        print(node.data)\n",
    "\n",
    "    def search_from_head(self, data):\n",
    "        if self.head == None:\n",
    "            return False\n",
    "        \n",
    "        node = self.head\n",
    "        while node:\n",
    "            if node.data == data:\n",
    "                print(node.data, node)\n",
    "                return node\n",
    "            else:\n",
    "                node = node.next\n",
    "        print(\"No data\")\n",
    "        return False\n",
    "\n",
    "    def search_from_tail(self, data):\n",
    "        if self.head == None:\n",
    "            return False\n",
    "\n",
    "        node = self.tail\n",
    "        while node:\n",
    "            if node.data == data:\n",
    "                print(node.data, node)\n",
    "                return node\n",
    "            else:\n",
    "                node = node.prev\n",
    "        print(\"No data\")\n",
    "        return False\n",
    "            \n",
    "    def insert_before(self, data, before_data):\n",
    "        if self.head == None:\n",
    "            self.head = MyNode(data)\n",
    "            print(self.head)\n",
    "            return True\n",
    "        else:\n",
    "            node = self.tail\n",
    "            while node.data != before_data:\n",
    "                node = node.prev\n",
    "                if node == None:\n",
    "                    return False\n",
    "            new = MyNode(data)\n",
    "            \n",
    "            before_new = node.prev #new의 앞에 올 것\n",
    "            before_new.next = new\n",
    "            \n",
    "            new.prev = before_new\n",
    "            new.next = node\n",
    "            \n",
    "            node.prev = new\n",
    "            return True\n",
    "\n",
    "    def insert_after(self, data, after_data):\n",
    "        if self.head == None:\n",
    "            self.head = MyNode(data)\n",
    "            return True\n",
    "        else:\n",
    "            node = self.head\n",
    "            while node.data != after_data:\n",
    "                node = node.next\n",
    "                if node == None:\n",
    "                    return False\n",
    "            new = MyNode(data)\n",
    "            \n",
    "            after_new = node.next #new의 다음에 올 것\n",
    "            after_new.prev = new\n",
    "            \n",
    "            node.next = new\n",
    "            \n",
    "            new.prev = node\n",
    "            new.next = after_new\n",
    "            return True\n",
    "\n"
   ]
  },
  {
   "cell_type": "code",
   "execution_count": 135,
   "metadata": {
    "tags": []
   },
   "outputs": [
    {
     "output_type": "stream",
     "name": "stdout",
     "text": "9 <__main__.MyNode object at 0x0000018D7B9B50B8>\nNo data\n0 <__main__.MyNode object at 0x0000018D7B9A3D68>\n3 <__main__.MyNode object at 0x0000018D7B9A3F60>\n"
    }
   ],
   "source": [
    "doublelinkedlist = MyDoubleLinkedList(0)\n",
    "for index in range(1, 10):\n",
    "    doublelinkedlist.insert(index)\n",
    "# doublelinkedlist.desc()\n",
    "\n",
    "node3 = doublelinkedlist.search_from_head(9)\n",
    "node3 = doublelinkedlist.search_from_head(10)\n",
    "\n",
    "node4 = doublelinkedlist.search_from_tail(0)\n",
    "node4 = doublelinkedlist.search_from_tail(3)"
   ]
  },
  {
   "cell_type": "code",
   "execution_count": null,
   "metadata": {
    "tags": []
   },
   "outputs": [],
   "source": [
    "node5 = doublelinkedlist.insert_before(1.5, 2) #1.5를 2앞에 넣는다\n",
    "# doublelinkedlist.desc()\n",
    "node5 = doublelinkedlist.insert_after(1.7, 1) #1.7을 1뒤에 넣는다\n",
    "doublelinkedlist.desc()"
   ]
  }
 ],
 "metadata": {
  "kernelspec": {
   "display_name": "Python 3",
   "language": "python",
   "name": "python3"
  },
  "language_info": {
   "codemirror_mode": {
    "name": "ipython",
    "version": 3
   },
   "file_extension": ".py",
   "mimetype": "text/x-python",
   "name": "python",
   "nbconvert_exporter": "python",
   "pygments_lexer": "ipython3",
   "version": "3.5.6-final"
  }
 },
 "nbformat": 4,
 "nbformat_minor": 4
}