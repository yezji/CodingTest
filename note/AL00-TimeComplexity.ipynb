{
 "metadata": {
  "language_info": {
   "codemirror_mode": {
    "name": "ipython",
    "version": 3
   },
   "file_extension": ".py",
   "mimetype": "text/x-python",
   "name": "python",
   "nbconvert_exporter": "python",
   "pygments_lexer": "ipython3",
   "version": "3.5.6-final"
  },
  "orig_nbformat": 2,
  "kernelspec": {
   "name": "python_defaultSpec_1598350999344",
   "display_name": "Python 3.5.6 64-bit ('venv': venv)"
  }
 },
 "nbformat": 4,
 "nbformat_minor": 2,
 "cells": [
  {
   "cell_type": "markdown",
   "metadata": {},
   "source": [
    "## 알고리즘 복잡도 표현 방법\n",
    "### 1. 알고리즘 복잡도 계산의 필요성\n",
    "#### 하나의 문제를 푸는 알고리즘은 다양할 수 있다.\n",
    "- 그중 어느 알고리즘이 더 좋은지를 분석하기 위해 복잡도를 정의하고 계산"
   ]
  },
  {
   "cell_type": "markdown",
   "metadata": {},
   "source": [
    "### 2. 알고리즘 복잡도 계산 항목\n",
    "1. **시간 복잡도** : 알고리즘 실행 속도\n",
    "- 시간 복잡도가 가장 중요\n",
    "2. 공간 복잡도 : 알고리즘이 사용하는 메모리 사이즈"
   ]
  },
  {
   "cell_type": "markdown",
   "metadata": {},
   "source": [
    "### 알고리즘 복잡도의 주요 요소\n",
    "- 반복문!\n",
    "    - 입력의 크기가 커지면 커질수록 반복문이 알고리즘 수행시간을 지배함"
   ]
  },
  {
   "cell_type": "markdown",
   "metadata": {},
   "source": [
    "### 알고리즘 성능 표기법\n",
    "* **Big O (빅오) 표기법 : O(N)**\n",
    "    - 알고리즘 최악의 실행 시간\n",
    "    - **가장 많이/일반적으로 사용**\n",
    "    - **아무리 최악의 상황이라도, 이정도의 성능은 보장한다는 의미**\n",
    "* Ω (오메가) 표기법 : Ω(N)\n",
    "    - 알고리즘 최상의 살행 시간\n",
    "* Θ (세타) 표기법 : Θ(N)\n",
    "    - 알고리즘 평균 실행 시간"
   ]
  },
  {
   "cell_type": "markdown",
   "metadata": {},
   "source": [
    "### 3. 대문자 O 표기법\n",
    "- O(입력)\n",
    "    - 입력 $n$에 따라 결정되는 시간 복잡도 함수\n",
    "    - O($1$) < O($log n$) < O($n$) < O($n log n$) < O($n^2$) < O($n!$)\n",
    "        - 참고 : $log n$의 베이스는 2-$log₂n$\n",
    "- 단순하게 입력 $n$에 따라, 몇번 실행이 되는지를 계산하면 된다.\n",
    "    - 표현식에 가장 큰 영향을 미치는 $n$의 단위로 표기한다.\n",
    "    - O($1$) -> 상수 횟수\n",
    "    ```python\n",
    "    if n > 10:\n",
    "        print(n)\n",
    "    ```\n",
    "    - O($n$) -> $n$에 따라 $n$번, $n+10$번, $3n+10$번\n",
    "    ```python\n",
    "    for index in range(n):\n",
    "        print(index)\n",
    "    ```\n",
    "    - O($n^2$) -> $n$에 따라 $n^2$번, $n^2+1000$번, $100n^2-100$번\n",
    "    ```python\n",
    "    for i in range(n):\n",
    "        for j in range(n):\n",
    "            print(i, j)\n",
    "    ```"
   ]
  },
  {
   "cell_type": "markdown",
   "metadata": {},
   "source": [
    "### 4. 실제 알고리즘의 시간 복잡도\n",
    "1. 1부터 n까지의 합을 구하는 알고리즘\n",
    "- 시간 복잡도 -> O(n)\n",
    "    - 입력 n에 따라 덧셈을 n번 해야 함 **(반복문 필요)**"
   ]
  },
  {
   "cell_type": "code",
   "execution_count": 1,
   "metadata": {},
   "outputs": [],
   "source": [
    "def sum_all(n):\n",
    "    total = 0\n",
    "    for num in range(1, n+1):\n",
    "        total += num\n",
    "    return total"
   ]
  },
  {
   "cell_type": "code",
   "execution_count": 2,
   "metadata": {},
   "outputs": [
    {
     "output_type": "execute_result",
     "data": {
      "text/plain": "5050"
     },
     "metadata": {},
     "execution_count": 2
    }
   ],
   "source": [
    "sum_all(100)"
   ]
  },
  {
   "cell_type": "markdown",
   "metadata": {},
   "source": [
    "2. 1부터 n까지의 합을 구하는 알고리즘\n",
    "- $n(n+1)/2$\n",
    "\n",
    "- 시간복잡도 -> O(1)\n",
    "    - 입력 n이 어떻든 간에, 곱셈/덧셈/나눗셈 하면 됨 **(반복문 없다!)**"
   ]
  },
  {
   "cell_type": "code",
   "execution_count": 3,
   "metadata": {},
   "outputs": [],
   "source": [
    "def sum_all(n):\n",
    "    return int(n*(n+1)/2)"
   ]
  },
  {
   "cell_type": "code",
   "execution_count": 4,
   "metadata": {},
   "outputs": [
    {
     "output_type": "execute_result",
     "data": {
      "text/plain": "5050"
     },
     "metadata": {},
     "execution_count": 4
    }
   ],
   "source": [
    "sum_all(100)"
   ]
  },
  {
   "cell_type": "markdown",
   "metadata": {},
   "source": [
    "#### 알고리즘 1, 2 중에 어느 알고리즘이 성능이 좋은가요?\n",
    "* 알고리즘 1 vs 알고리즘 2\n",
    "    - O(n) vs O(1)\n",
    "    - O(1)이 훨씬 더 좋다"
   ]
  }
 ]
}