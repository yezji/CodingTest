{
 "cells": [
  {
   "cell_type": "markdown",
   "metadata": {},
   "source": [
    "# Stack\n",
    "### 1. 스택 구조 (꼭 알아두기)\n",
    "- 데이터를 제한적으로 접근할 수 있는 구조\n",
    "    - 한쪽 끝에서만 자료를 넣거나 뺄 수 있는 구조\n",
    "- 가장 나중에 쌓은 데이터를 가장 먼저 빼낼 수 있는 데이터 구조\n",
    "    - <u>Queue와 가장 다른 차이점!</u>\n",
    "    - <u>LIFO(Last-In, First-Out)</u> 또는 FILO(First-In, Last-Out) 방식\n",
    "- 대표적인 스택의 활용\n",
    "    - 컴퓨터 내부의 <u>프로세스 구조의 **함수 동작 방식**</u>\n",
    "        - 함수 호출 시 프로세스 실행 구조를 스택과 비교해서 이해 필요\n",
    "- 주요 기능\n",
    "    - push() : 데이터를 스택에 삽입\n",
    "    - pop() : 데이터를 스택에서 꺼내기"
   ]
  },
  {
   "cell_type": "code",
   "execution_count": 7,
   "metadata": {},
   "outputs": [
    {
     "name": "stdout",
     "output_type": "stream",
     "text": [
      "open func: 5\n",
      "open func: 4\n",
      "open func: 3\n",
      "open func: 2\n",
      "open func: 1\n",
      "open func: 0\n",
      "endded\n",
      "returned func: 0\n",
      "returned func: 1\n",
      "returned func: 2\n",
      "returned func: 3\n",
      "returned func: 4\n",
      "returned func: 5\n"
     ]
    }
   ],
   "source": [
    "# 프로세스 구조의 함수 동작 방식 확인\n",
    "\n",
    "def recursive(data):\n",
    "    if data<0:\n",
    "        print(\"endded\")\n",
    "    else:\n",
    "        print(\"open func:\", data)\n",
    "        recursive(data-1)\n",
    "        print(\"returned func:\", data)\n",
    "        \n",
    "recursive(5)"
   ]
  },
  {
   "cell_type": "markdown",
   "metadata": {},
   "source": [
    "### 2. 스택의 장단점\n",
    "- 장점\n",
    "    - 구조가 단순해서 구현이 쉽다.\n",
    "    - 데이터 저장/읽기 속도가 빠르다.\n",
    "- 단점\n",
    "    - <u>데이터 최대 갯수를 미리 정해야 한다.</u>\n",
    "        - 배열 구조를 활용해서 구현하는 것이 일반적\n",
    "        - 파이썬의 경우, 재귀 함수는 1000번 까지만 호출 가능\n",
    "    - 저장 공간의 낭비가 발생할 수 있다.\n",
    "        - 미리 최대 갯수만큼 저장 공간을 확보해야 함\n",
    "        \n",
    "`스택은 단순하고 빠른 성능을 위해 사용되므로, 보통 배열 구조를 활용해서 구현하는 것이 일반적이다. 이 경우, 위에서 열거한 단점이 있을 수 있다.`"
   ]
  },
  {
   "cell_type": "markdown",
   "metadata": {},
   "source": [
    "### 3. 파이썬 리스트 기능에서 제공하는 메서드로 스택 사용하기\n",
    "- append(=push), pop 메서드 제공"
   ]
  },
  {
   "cell_type": "code",
   "execution_count": 14,
   "metadata": {},
   "outputs": [
    {
     "name": "stdout",
     "output_type": "stream",
     "text": [
      "['one', 'two']\n",
      "two\n"
     ]
    }
   ],
   "source": [
    "data_stack = list()\n",
    "\n",
    "data_stack.append(\"one\")\n",
    "data_stack.append(\"two\")\n",
    "\n",
    "print(data_stack)\n",
    "print(data_stack.pop())"
   ]
  },
  {
   "cell_type": "markdown",
   "metadata": {},
   "source": [
    "### 4. 스택 사용 연습\n",
    "#### 연습1 : 리스트 변수로 스택을 다루는 pop, push 기능 구현하기 (pop, push함수 사용하지 않고 직접 구현)"
   ]
  },
  {
   "cell_type": "code",
   "execution_count": 15,
   "metadata": {},
   "outputs": [],
   "source": [
    "stack_list = list()\n",
    "\n",
    "def push(data):\n",
    "    stack_list.append(data)\n",
    "\n",
    "def pop():\n",
    "    data = stack_list[-1] #-1 : 마지막\n",
    "    del stack_list[-1]\n",
    "    return data"
   ]
  },
  {
   "cell_type": "code",
   "execution_count": 16,
   "metadata": {},
   "outputs": [],
   "source": [
    "for index in range(10):\n",
    "    push(index)"
   ]
  },
  {
   "cell_type": "code",
   "execution_count": 17,
   "metadata": {},
   "outputs": [
    {
     "data": {
      "text/plain": [
       "[0, 1, 2, 3, 4, 5, 6, 7, 8, 9]"
      ]
     },
     "execution_count": 17,
     "metadata": {},
     "output_type": "execute_result"
    }
   ],
   "source": [
    "stack_list"
   ]
  },
  {
   "cell_type": "code",
   "execution_count": 18,
   "metadata": {},
   "outputs": [
    {
     "data": {
      "text/plain": [
       "9"
      ]
     },
     "execution_count": 18,
     "metadata": {},
     "output_type": "execute_result"
    }
   ],
   "source": [
    "pop()"
   ]
  }
 ],
 "metadata": {
  "kernelspec": {
   "display_name": "Python 3",
   "language": "python",
   "name": "python3"
  },
  "language_info": {
   "codemirror_mode": {
    "name": "ipython",
    "version": 3
   },
   "file_extension": ".py",
   "mimetype": "text/x-python",
   "name": "python",
   "nbconvert_exporter": "python",
   "pygments_lexer": "ipython3",
   "version": "3.5.6"
  }
 },
 "nbformat": 4,
 "nbformat_minor": 4
}
