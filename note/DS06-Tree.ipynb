{
 "metadata": {
  "language_info": {
   "codemirror_mode": {
    "name": "ipython",
    "version": 3
   },
   "file_extension": ".py",
   "mimetype": "text/x-python",
   "name": "python",
   "nbconvert_exporter": "python",
   "pygments_lexer": "ipython3",
   "version": "3.5.6-final"
  },
  "orig_nbformat": 2,
  "kernelspec": {
   "name": "python_defaultSpec_1598455484609",
   "display_name": "Python 3.5.6 64-bit ('venv': venv)"
  }
 },
 "nbformat": 4,
 "nbformat_minor": 2,
 "cells": [
  {
   "cell_type": "markdown",
   "metadata": {},
   "source": [
    "# Tree"
   ]
  },
  {
   "cell_type": "markdown",
   "metadata": {},
   "source": [
    "### 1. Tree 구조 (꼭 알기)\n",
    "- **Tree : Node와 Branch를 이용해서 사이클을 이루지 않도록 구성한 데이터 구조**\n",
    "- 실제로 어디에서 많이 사용되나?\n",
    "    - 트리 중 **이진 트리(Binary Tree) -> 탐색(검색) 알고리즘** 구현에서 많이 사용됨"
   ]
  },
  {
   "cell_type": "markdown",
   "metadata": {},
   "source": [
    "### 2. 알아둘 용어\n",
    "- Node\n",
    "    - 트리에서 데이터를 저장하는 기본 요소 (데이터와 다른 연결된 노드에 대한 Branch 정보 포함)\n",
    "- Root Node\n",
    "    - 트리 맨 위에 있는 노드\n",
    "- Level\n",
    "    - 최상위 노드를 level 0으로 했을 때, 하위 Branch로 연결된 노드의 깊이를 나타냄\n",
    "- Parent Node\n",
    "    - 어떤 노드의 다음 레벨에 연결된 노드\n",
    "- Child Node\n",
    "    - 어떤 노드의 상위 레벨에 연결된 노드\n",
    "- Leaf Node (=Terminal Node)\n",
    "    - Child Node가 하나도 없는 노드\n",
    "- Sibling Node (=Brother Node)\n",
    "    - 동일한 Parent Node를 가진 노드\n",
    "- Depth\n",
    "    - 트리에서 Node가 가질 수 있는 최대 level"
   ]
  },
  {
   "cell_type": "markdown",
   "metadata": {},
   "source": [
    "### 3. 이진 트리(Binary Tree)와 이진 탐색 트리(Binary Search Tree)\n",
    "* 이진 트리(Binary Tree)\n",
    "    - 노드의 <u>최대 Branch가 2인 트리</u>\n",
    "* 이진 탐색 트리(Binary Search Tree, BST)\n",
    "    - 이진 트리의 구조 + 추가 조건\n",
    "    - <u>왼쪽노드는 해당 노드보다 작은 값, 오른쪽 노드는 해당 노드보다 큰 값</u>을 가지는 추가적인 조건을 가지는 트리"
   ]
  },
  {
   "cell_type": "markdown",
   "metadata": {},
   "source": [
    "### 4. 이진 탐색 트리의 장점과 주요 용도\n",
    "* 주요 용도 : **데이터 검색(탐색)**\n",
    "* 장점 : 탐색 **속도 개선**\n",
    "    - <u>균형 잡힌 트리</u>의 경우 평균 시간 복잡도 -> **<u>O(log n)</u>**\n",
    "* 단점 : <u>완전히 한쪽에 편중된 트리</u>의 경우 -> **<u>O(n)</u>**\n",
    "    - 최악의 경우 링크드 리스트와 동일한 성능\n",
    "\n",
    "#### 이진트리 vs 정렬된 배열 탐색 비교\n",
    "- 이진트리 : $O(h)$ \\*h는 트리의 depth (O(log n)에 근접)\n",
    "- 정렬된 배열 : $O(n)$"
   ]
  },
  {
   "cell_type": "markdown",
   "metadata": {},
   "source": [
    "### 5. 파이썬으로 링크드 리스트 구현하기"
   ]
  },
  {
   "cell_type": "markdown",
   "metadata": {},
   "source": [
    "#### 5.1. 노드 클래스 만들기"
   ]
  },
  {
   "cell_type": "code",
   "execution_count": null,
   "metadata": {},
   "outputs": [],
   "source": [
    "class Node:\n",
    "    def __init__(self, value):\n",
    "        self.value = value\n",
    "        self.left = None\n",
    "        self.right = None"
   ]
  },
  {
   "cell_type": "markdown",
   "metadata": {},
   "source": [
    "#### 5.2. 이진 탐색 트리에 데이터 넣기\n",
    "- 이진 탐색 트리 조건에 부합하게 데이터를 넣어야 함"
   ]
  },
  {
   "cell_type": "code",
   "execution_count": null,
   "metadata": {},
   "outputs": [],
   "source": [
    "class NodeMgmt:\n",
    "    def __init__(self, head):\n",
    "        self.head = head # root node\n",
    "\n",
    "    def insert(self, value):\n",
    "        self.current_node = self.head\n",
    "        while True:\n",
    "            if value < self.current_node.value: #작으면 왼쪽으로\n",
    "                if self.current_node.left != None:\n",
    "                    self.current_node = self.current_node.left\n",
    "                else:\n",
    "                    self.current_node.left = Node(value) #없다면 새로 만들어줌\n",
    "                    break\n",
    "            else: #같거나 크면 오른쪽으로\n",
    "                if self.current_node.right != None:\n",
    "                    self.current_node = self.current_node.right\n",
    "                else:\n",
    "                    self.current_node.right = Node(value)\n",
    "                    break\n",
    "\n",
    "    def search(self, value):\n",
    "        self.current_node = self.head\n",
    "        while self.current_node:\n",
    "            if value == self.current_node.value: #작으면 왼쪽으로\n",
    "                return True #해당 value를 가진 node가 있다\n",
    "            elif value < self.current_node.value:\n",
    "                self.current_node = self.current_node.left\n",
    "            else: #같거나 크면 오른쪽으로\n",
    "                self.current_node = self.current_node.right\n",
    "\n",
    "        return False #해당 value를 가진 node가 없다"
   ]
  },
  {
   "cell_type": "markdown",
   "metadata": {},
   "source": [
    "#### 5.3. 이진 탐색 트리를 탐색"
   ]
  },
  {
   "cell_type": "code",
   "execution_count": null,
   "metadata": {},
   "outputs": [],
   "source": [
    "head = Node(1)\n",
    "bst = NodeMgmt(head)\n",
    "\n",
    "bst.insert(2)\n",
    "bst.insert(3)\n",
    "bst.insert(0)\n",
    "bst.insert(4)\n",
    "bst.insert(8)"
   ]
  },
  {
   "cell_type": "code",
   "execution_count": null,
   "metadata": {
    "tags": []
   },
   "outputs": [],
   "source": [
    "print(bst.search(5))\n",
    "print(bst.search(8))"
   ]
  },
  {
   "cell_type": "markdown",
   "metadata": {},
   "source": [
    "#### 5.4. 이진 트리 삭제\n",
    "- 매우 복잡함. **경우를 나눠서 이해하는 것이 좋음**\n",
    "    - 3가지 경우\n",
    "        - Leaf Node 삭제\n",
    "        - Child Node가 하나인 Node 삭제\n",
    "        - <u>Child Node가 두 개인 Node 삭제 (★ 외우면 좋다)</u>\n"
   ]
  },
  {
   "cell_type": "markdown",
   "metadata": {},
   "source": [
    "#### 5.4.1. Leaf Node 삭제\n",
    "- Leaf Node : Child Node가 없는 Node\n",
    "- 삭제할 Node의 Parnet Node가 삭제할 Node를 가리키지 않도록 해야 함\n",
    "\n",
    "```\n",
    "  ○\n",
    " /\n",
    "●     <-삭제\n",
    "```\n",
    "#### 5.4.2. Child Node가 하나인 Node 삭제\n",
    "- 삭제할 Node의 Parnet Node가 삭제할 Node의 Child Node를 가리키도록 해야 함\n",
    "\n",
    "```\n",
    "  ●   <- 삭제\n",
    " /\n",
    "○\n",
    "```\n",
    "\n",
    "#### 5.4.3. Child Node가 두 개인 Node 삭제\n",
    "- 두 가지 방법 중 하나\n",
    "1. **삭제할 Node의 <u>오른쪽 자식 중 가장 작은 값</u>을 삭제할 Node의 Parent Node가 가리키도록 해야 함**\n",
    "2. 삭제할 Node의 <u>왼쪽 자식 중 가장 큰 값</u>을 삭제할 Node의 Parent Node가 가리키도록 해야 함\n",
    "\n",
    "```\n",
    "  ●   <- 삭제\n",
    " / ＼\n",
    "○   ○\n",
    "```\n",
    "\n",
    "#### 1. 삭제할 Node의 오른쪽 자식 중, 가장 작은 값을 삭제할 Node의 Parent Node가 가리키게 할 경우\n",
    "* 순서 sudo\n",
    "  1. DeleteNode.RightChild 선택\n",
    "  2. DeleteNode.RightChild의 가장 왼쪽에 있는 MinimumNode 선택\n",
    "  3. DeleteNode.ParentNode.LeftBranch = MinimumNode 가리키게 함\n",
    "  4. MinimumNode.LeftBranch = DeleteNode.LeftChild 가리키게 함\n",
    "  5. MinimumNode.RightBrach = DeleteNode.RightChild 가리키게 함\n",
    "  6. if MinimumNode.RightChild != None: OriginalMinimumNode.ParentNode.LeftBranch = OriginalMinimumNode.RightChild"
   ]
  },
  {
   "cell_type": "markdown",
   "metadata": {},
   "source": [
    "#### 5.5. 이진 탐색 트리 삭제 코드 구현과 분석"
   ]
  },
  {
   "cell_type": "markdown",
   "metadata": {},
   "source": [
    "#### 5.5.1. 삭제할 Node 탐색\n",
    "- 삭제할 Node가 없는 경우도 처리해야 함\n",
    "    - 이를 위해 삭제할 Node가 없는 경우는 Fasle를 리턴하고, 함수를 종료 시킴\n",
    "\n"
   ]
  },
  {
   "cell_type": "code",
   "execution_count": null,
   "metadata": {},
   "outputs": [],
   "source": [
    "# 여기서 작성하고 추후에 NodeMgmt 클래스에 코드 넣을 것\n",
    "def delete(self, value):\n",
    "    # 1. value가진 노드가 있는지 확인\n",
    "    searched = False\n",
    "    self.current_node = self.head #삭제할 노드\n",
    "    self.parent = self.head #삭제할 노드의 부모노드\n",
    "\n",
    "    while self.current_node:\n",
    "        if value == self.current_node.value:\n",
    "            searched = True\n",
    "            break\n",
    "        elif value < self.current_node:\n",
    "            self.parent = self.current_node\n",
    "            self.current_node = self.current_node.left\n",
    "        else:\n",
    "            self.parent = self.current_node\n",
    "            self.current_node = self.current_node.right\n",
    "    \n",
    "    if searched == False:\n",
    "        return False\n",
    "\n",
    "    ### 여기부터 삭제 Case 1, 2, 3 작성 ###\n",
    "    "
   ]
  },
  {
   "cell_type": "markdown",
   "metadata": {},
   "source": [
    "#### 삭제 Case 1, 2, 3 작성\n",
    "- self.current_node가 삭제할 Node\n",
    "- self.parent는 삭제할 Node의 Parent Node인 상태"
   ]
  },
  {
   "cell_type": "markdown",
   "metadata": {},
   "source": [
    "#### Case 1 : 삭제할 Node가 Leaf Node인 경우\n",
    "Leaf Node의 위치가 왼쪽에 있을 때, 오른쪽에 있을 때 2가지로 나뉨\n",
    "````\n",
    "     ○\n",
    "    / ＼\n",
    "   ○   ○\n",
    "  /＼   /＼\n",
    " ○  ○ ●  ●   -> Leaf Node가 왼쪽 / 오른쪽에 위치\n",
    " ````"
   ]
  },
  {
   "cell_type": "code",
   "execution_count": null,
   "metadata": {},
   "outputs": [],
   "source": [
    "# def delete(self, value):\n",
    "    if self.current_node.left == None and self.current_node.right == None:\n",
    "        if value < self.parent.value:\n",
    "            self.parent.left = None\n",
    "        else:\n",
    "            self.parent.right = None\n",
    "        del self.current_node"
   ]
  },
  {
   "cell_type": "markdown",
   "metadata": {},
   "source": [
    "#### Case 2 : 삭제할 Node가 Child Node를 한 개 가지고 있는 경우\n",
    "Child를 왼쪽에 가질 때, 오른쪽에 가질 때 2가지로 나뉨\n",
    "```\n",
    "     ○\n",
    "    / ＼\n",
    "   ●   ●    -> Child가 왼쪽에 위치\n",
    "  /    /\n",
    " ○   ○\n",
    "\n",
    "     ○\n",
    "    / ＼\n",
    "   ●   ●    -> Child가 오른쪽에 위치\n",
    "   ＼    ＼\n",
    "     ○    ○\n",
    "```"
   ]
  },
  {
   "cell_type": "code",
   "execution_count": null,
   "metadata": {},
   "outputs": [],
   "source": [
    "# def delete(self, value):\n",
    "    # 삭제할 Node가 Child를 왼쪽에만 가지고 있을 때\n",
    "    if self.current_node.left != None and self.current_node.right == None:\n",
    "        if value < self.parent.value:\n",
    "            self.parent.left = self.current_node.left\n",
    "        else:\n",
    "            self.parent.right = self.current_node.left\n",
    "    # 삭제할 Node가 Child를 오른쪽에만 가지고 있을 때\n",
    "    elif self.current_node.left == None and self.current_node.right != None:\n",
    "        if value < self.parent.value:\n",
    "            self.parent.left = self.current_node.right\n",
    "        else:\n",
    "            self.parent.right = self.current_node.right\n"
   ]
  },
  {
   "cell_type": "markdown",
   "metadata": {},
   "source": [
    "#### Case 3 : 삭제할 Node가 Child Node를 두 개 가지고 있는 경우\n",
    "삭제할 Node가 Parent Node의 왼쪽 / 오른쪽에 위치 하는 경우 2가지로 나뉨\n",
    "```\n",
    "     ○\n",
    "    /＼\n",
    "   ●  ○    -> Parent Node의 왼쪽에 위치\n",
    "  /＼   /＼\n",
    " ○ ○  ○ ○\n",
    " \n",
    "     ○\n",
    "    /＼\n",
    "   ○  ●    -> Parent Node의 오른쪽에 위치\n",
    "  /＼   /＼\n",
    " ○ ○  ○ ○\n",
    "```"
   ]
  },
  {
   "cell_type": "markdown",
   "metadata": {},
   "source": [
    "#### 5.5.3. Case3-1 : 삭제할 Node가 Parent Node의 왼쪽에 위치한 경우\n",
    "* 기본 사용 가능 전략\n",
    "    1. 삭제할 Node의 오른쪽 자식 중 가장 작은 값을 삭제할 Node의 Parent Node가 가리키도록 함\n",
    "    2. 삭제할 Node의 왼쪽 자식 중 가장 큰 값을 삭제할 Node의 Parent Node가 가리키도록 함\n",
    "* 기본 사용 가능 전략 중, 1번 전략을 사용하여 코드를 구현하기로 함\n",
    "    - 경우의 수가 또다시 두가지가 있음\n",
    "        - **Case3-1-1**:\n",
    "            - 삭제할 Node가 Parent Node의 왼쪽에 있고,\n",
    "            - 삭제할 Node의 **오른쪽 자식 중 가장 작은 값을 가진 Node**의 <u>Child Node가 있을 때</u> (=또 자식이 딸려있을 때)\n",
    "        - Case3-1-2:\n",
    "            - 삭제할 Node가 Parent Node의 왼쪽에 있고,\n",
    "            - 삭제할 Node의 **오른쪽 자식 중 가장 작은 값을 가진 Node의** <u>오른쪽에 Child Node가 있을 때</u>\n",
    "                - 가장 작은 값을 가진 Node의 Child Node가 왼쪽에 있을 경우는 없음! 왜냐하면 왼쪽 Node가 있다는 것은 해당 Node보다 더 작은 Node가 있다는 뜻이기 때문 -> 왼쪽이 있었다면 삭제할 Node에 걔가 들어갔을 것!\n",
    "```\n",
    "        ○           -> Parent\n",
    "      /   ＼\n",
    "     ●      ○       -> 색칠이 삭제할 노드\n",
    "    /＼       /＼\n",
    "   ○ ◎     ○ ○\n",
    "  /＼ /＼\n",
    " ○○ ◎○              -> 왼쪽에서 세번째 노드가 가장 작은 값\n",
    "       ＼\n",
    "         ◎          -> 얘가 Case3-1-1에 해당하는 노드 (자식이 또 딸려있을 때)\n",
    "```"
   ]
  },
  {
   "cell_type": "markdown",
   "metadata": {},
   "source": [
    "#### 5.5.4. Case3-2 : 삭제할 Node가 Parent Node의 오른쪽에 위치한 경우\n",
    "**(트리 모양 빼고 위의 전략 내용과 동일)**\n",
    "\n",
    "* 기본 사용 가능 전략\n",
    "    1. 삭제할 Node의 오른쪽 자식 중 가장 작은 값을 삭제할 Node의 Parent Node가 가리키도록 함\n",
    "    2. 삭제할 Node의 왼쪽 자식 중 가장 큰 값을 삭제할 Node의 Parent Node가 가리키도록 함\n",
    "* 기본 사용 가능 전략 중, 1번 전략을 사용하여 코드를 구현하기로 함\n",
    "    - 경우의 수가 또다시 두가지가 있음\n",
    "        - **Case3-2-1**:\n",
    "            - 삭제할 Node가 Parent Node의 왼쪽에 있고,\n",
    "            - 삭제할 Node의 **오른쪽 자식 중 가장 작은 값을 가진 Node**의 <u>Child Node가 있을 때</u> (=또 자식이 딸려있을 때)\n",
    "        - Case3-2-2:\n",
    "            - 삭제할 Node가 Parent Node의 왼쪽에 있고,\n",
    "            - 삭제할 Node의 **오른쪽 자식 중 가장 작은 값을 가진 Node의** <u>오른쪽에 Child Node가 있을 때</u>\n",
    "                - 가장 작은 값을 가진 Node의 Child Node가 왼쪽에 있을 경우는 없음! 왜냐하면 왼쪽 Node가 있다는 것은 해당 Node보다 더 작은 Node가 있다는 뜻이기 때문 -> 왼쪽이 있었다면 삭제할 Node에 걔가 들어갔을 것!\n",
    "```\n",
    "        ○                       -> Parent\n",
    "      /   ＼\n",
    "     ○      ●                   -> 색칠이 삭제할 노드\n",
    "    /＼       /＼\n",
    "   ○ ○     ○ ◎\n",
    "             /＼ /＼\n",
    "            ○○ ◎○              -> 왼쪽에서 세번째 노드가 가장 작은 값\n",
    "                  ＼\n",
    "                    ◎          -> 얘가 Case3-1-1에 해당하는 노드 (자식이 또 딸려있을 때)\n",
    "```"
   ]
  },
  {
   "cell_type": "code",
   "execution_count": null,
   "metadata": {},
   "outputs": [],
   "source": [
    "# def delete(self, value): \n",
    "    if self.current_node.left != None and self.current_node.right != None: # Case3\n",
    "        if value < self.parent: # Case3-1, 삭제할 노드가 왼쪽에 있어서 오른쪽 자식들을 순회\n",
    "            \n",
    "            #0 change할 node 정보 저장\n",
    "            self.change_node = self.current_node.right\n",
    "            self.change_node_parent = self.current_node.right\n",
    "\n",
    "            #1 가장 작은 노드 찾기 위해 순회\n",
    "            while self.change_node.left != None: #왼쪽을 순차적으로 탐색\n",
    "                self.change_node_parent = self.change_node\n",
    "                self.change_node = self.change_node.left\n",
    "            \n",
    "            #2 가장 작은 노드 찾았으니 change_node 처리\n",
    "            self.change_node_parent.left = None\n",
    "            if self.change_node.right != None: # Case3-1-1\n",
    "                self.change_node_parent.left = self.change_node.right\n",
    "            else:\n",
    "                self.change_node_parent.left = None\n",
    "\n",
    "            #3 change_node를 위로 올리자\n",
    "            self.parent.left = self.change_node #부모가 처리\n",
    "            self.change_node.right = self.current_node.right #내 양옆 처리\n",
    "            self.change_node.left = self.current_node.left\n",
    "\n",
    "\n",
    "        else: # Case3-2, 삭제할 노드가 오른쪽에 있어서 왼쪽 자식들을 순회\n",
    "            \n",
    "            #0 change할 node 정보 저장\n",
    "            self.change_node = self.current_node.right\n",
    "            self.change_node_parent = self.current_node.right\n",
    "\n",
    "            #1 가장 작은 노드 찾기 위해 순회\n",
    "            while self.change_node.left != None:\n",
    "                self.change_node_parent = self.change_node\n",
    "                self.change_node = self.change_node.left\n",
    "\n",
    "            #2 가장 작은 노드 찾았으니 change_node처리\n",
    "            if self.change_node.right != None:\n",
    "                self.change_node_parent.left = self.change_node.right\n",
    "            else:\n",
    "                self.change_node_parent.left = None\n",
    "\n",
    "            #3 change_node를 위로 올리자\n",
    "            self.parent.right = self.change_node #부모가 처리\n",
    "            self.change_node.left = self.current_node.left #내 양옆 처리\n",
    "            self.change_node.right = self.current_node.right\n",
    "\n",
    "\n"
   ]
  },
  {
   "cell_type": "markdown",
   "metadata": {},
   "source": [
    "#### 5.5.5. 파이썬 전체 코드 구현"
   ]
  },
  {
   "cell_type": "code",
   "execution_count": 41,
   "metadata": {},
   "outputs": [],
   "source": [
    "class Node:\n",
    "    def __init__(self, value):\n",
    "        self.value = value\n",
    "        self.left = None\n",
    "        self.right = None\n",
    "\n",
    "class NodeMgmt:\n",
    "    def __init__(self, head):\n",
    "        self.head = head # root node\n",
    "\n",
    "    def insert(self, value):\n",
    "        self.current_node = self.head\n",
    "        while True:\n",
    "            if value < self.current_node.value: #작으면 왼쪽으로\n",
    "                if self.current_node.left != None:\n",
    "                    self.current_node = self.current_node.left\n",
    "                else:\n",
    "                    self.current_node.left = Node(value) #없다면 새로 만들어줌\n",
    "                    break\n",
    "            else: #같거나 크면 오른쪽으로\n",
    "                if self.current_node.right != None:\n",
    "                    self.current_node = self.current_node.right\n",
    "                else:\n",
    "                    self.current_node.right = Node(value)\n",
    "                    break\n",
    "\n",
    "    def search(self, value):\n",
    "        self.current_node = self.head\n",
    "        while self.current_node:\n",
    "            if value == self.current_node.value: #작으면 왼쪽으로\n",
    "                return True #해당 value를 가진 node가 있다\n",
    "            elif value < self.current_node.value:\n",
    "                self.current_node = self.current_node.left\n",
    "            else: #같거나 크면 오른쪽으로\n",
    "                self.current_node = self.current_node.right\n",
    "\n",
    "        return False #해당 value를 가진 node가 없다\n",
    "\n",
    "    def delete(self, value):\n",
    "        searched = False #value가진 노드가 있는지 확인\n",
    "        self.current_node = self.head #삭제할 노드\n",
    "        self.parent = self.head #삭제할 노드의 부모노드\n",
    "\n",
    "        while self.current_node:\n",
    "            if value == self.current_node.value:\n",
    "                searched = True\n",
    "                break\n",
    "            elif value < self.current_node.value:\n",
    "                self.parent = self.current_node\n",
    "                self.current_node = self.current_node.left\n",
    "            else:\n",
    "                self.parent = self.current_node\n",
    "                self.current_node = self.current_node.right\n",
    "        \n",
    "        if searched == False:\n",
    "            return False\n",
    "\n",
    "\n",
    "        # Case 1\n",
    "        if self.current_node.left == None and self.current_node.right == None:\n",
    "            if value < self.parent.value:\n",
    "                self.parent.left = None\n",
    "            else:\n",
    "                self.parent.right = None\n",
    "            del self.current_node\n",
    "\n",
    "        # Case 2\n",
    "        # 삭제할 Node가 Child를 왼쪽에만 가지고 있을 때\n",
    "        if self.current_node.left != None and self.current_node.right == None:\n",
    "            if value < self.parent.value:\n",
    "                self.parent.left = self.current_node.left\n",
    "            else:\n",
    "                self.parent.right = self.current_node.left\n",
    "        # 삭제할 Node가 Child를 오른쪽에만 가지고 있을 때\n",
    "        elif self.current_node.left == None and self.current_node.right != None:\n",
    "            if value < self.parent.value:\n",
    "                self.parent.left = self.current_node.right\n",
    "            else:\n",
    "                self.parent.right = self.current_node.right\n",
    "\n",
    "        # Case 3 \n",
    "        if self.current_node.left != None and self.current_node.right != None:\n",
    "            # Case 3-1, 삭제할 노드가 왼쪽에 있어서 오른쪽 자식들을 순회\n",
    "            if value < self.parent.value: \n",
    "                \n",
    "                #0 change할 node 정보 저장\n",
    "                self.change_node = self.current_node.right\n",
    "                self.change_node_parent = self.current_node.right\n",
    "\n",
    "                #1 가장 작은 노드 찾기 위해 순회\n",
    "                while self.change_node.left != None: #왼쪽을 순차적으로 탐색\n",
    "                    self.change_node_parent = self.change_node\n",
    "                    self.change_node = self.change_node.left\n",
    "                \n",
    "                #2 가장 작은 노드 찾았으니 change_node 처리\n",
    "                self.change_node_parent.left = None\n",
    "                if self.change_node.right != None: # Case3-1-1\n",
    "                    self.change_node_parent.left = self.change_node.right\n",
    "                else:\n",
    "                    self.change_node_parent.left = None\n",
    "\n",
    "                #3 change_node를 위로 올리자\n",
    "                self.parent.left = self.change_node #부모가 처리\n",
    "                self.change_node.right = self.current_node.right #내 양옆 처리\n",
    "                self.change_node.left = self.current_node.left\n",
    "\n",
    "\n",
    "            # Case 3-2, 삭제할 노드가 오른쪽에 있어서 왼쪽 자식들을 순회\n",
    "            else:                 \n",
    "                #0 change할 node 정보 저장\n",
    "                self.change_node = self.current_node.right\n",
    "                self.change_node_parent = self.current_node.right\n",
    "\n",
    "                #1 가장 작은 노드 찾기 위해 순회\n",
    "                while self.change_node.left != None:\n",
    "                    self.change_node_parent = self.change_node\n",
    "                    self.change_node = self.change_node.left\n",
    "\n",
    "                #2 가장 작은 노드 찾았으니 change_node처리\n",
    "                if self.change_node.right != None:\n",
    "                    self.change_node_parent.left = self.change_node.right\n",
    "                else:\n",
    "                    self.change_node_parent.left = None\n",
    "\n",
    "                #3 change_node를 위로 올리자\n",
    "                self.parent.right = self.change_node #부모가 처리\n",
    "                self.change_node.left = self.current_node.left #내 양옆 처리\n",
    "                self.change_node.right = self.current_node.right\n",
    "\n",
    "\n"
   ]
  },
  {
   "cell_type": "markdown",
   "metadata": {},
   "source": [
    "#### 5.5.6. 파이썬 전체 코드 테스트\n",
    "- random 라이브러리 활용\n",
    "    - random.randint(첫번째 숫자, 마지막 숫자)\n",
    "        - 첫번째 숫자부터 마지막 숫자 사이에 있는 숫자를 랜덤하게 선택해서 리턴\n",
    "        - ex) random.randint(0, 99) : 0 ~ 99 중에서 특정 숫자를 랜덤하게 선택해서 리턴"
   ]
  },
  {
   "cell_type": "code",
   "execution_count": 47,
   "metadata": {
    "tags": []
   },
   "outputs": [
    {
     "output_type": "stream",
     "name": "stdout",
     "text": "########### before delete ###########\n7\n525\n14\n15\n22\n544\n548\n551\n39\n555\n44\n48\n560\n566\n60\n575\n93\n100\n613\n104\n112\n636\n124\n638\n129\n131\n645\n647\n651\n653\n150\n673\n164\n681\n171\n173\n690\n711\n712\n713\n715\n720\n214\n215\n217\n732\n734\n735\n227\n229\n235\n748\n749\n241\n756\n765\n256\n770\n281\n283\n284\n286\n803\n808\n817\n312\n318\n319\n832\n326\n840\n841\n842\n332\n846\n856\n348\n354\n361\n882\n371\n377\n898\n899\n419\n428\n941\n949\n957\n454\n457\n985\n476\n481\n488\n490\n491\n492\n496\n504\nbefore_cnt: 100\n#####################################\n\n########### delete nums ###########\n354\n803\n229\n645\n647\n235\n651\n173\n112\n284\ndeleted_cnt: 10\n#####################################\n"
    }
   ],
   "source": [
    "# 0 ~ 999 중에서 임의로 100개 추출 후, 이진 탐색 트리에 입력->검색->삭제하여 테스트\n",
    "import random\n",
    "\n",
    "# 0 ~ 999 중, 100개의 숫자 랜덤 선택\n",
    "bst_nums = set() # 중복 제거 위해서 집합 사용\n",
    "while len(bst_nums) < 100:\n",
    "    bst_nums.add(random.randint(0, 999))\n",
    "\n",
    "# 선택된 100개의 숫자를 이진 탐색 트리에 입력, 임의로 루트 노드는 500을 넣음 (중간정도 값)\n",
    "head = Node(500)\n",
    "bst = NodeMgmt(head)\n",
    "for num in bst_nums:\n",
    "    bst.insert(num)\n",
    "\n",
    "# 입력한 100개의 숫자 검색 (검색 기능 확인)\n",
    "print(\"########### before delete ###########\")\n",
    "before_cnt = 0\n",
    "for num in bst_nums:\n",
    "    if bst.search(num) == False:\n",
    "        print(\"search failed\", num)\n",
    "    else: # search success\n",
    "        print(num)\n",
    "        before_cnt += 1\n",
    "print(\"before_cnt:\", before_cnt)\n",
    "print(\"#####################################\")\n",
    "print()\n",
    "\n",
    "# 삭제를 위해 입력한 100개의 숫자 중 10개의 숫자를 랜덤 선택\n",
    "delete_nums = set()\n",
    "bst_nums = list(bst_nums) #list로 변형하여 인덱스번호로 접근가능해짐\n",
    "while len(delete_nums) < 10:\n",
    "    delete_nums.add(bst_nums[random.randint(0, 99)])\n",
    "\n",
    "# 선택한 10개의 숫자를 삭제 (삭제 기능 확인)\n",
    "print(\"########### delete nums ###########\")\n",
    "after_cnt = 0\n",
    "for del_num in delete_nums:\n",
    "    if bst.delete(del_num) == False:\n",
    "        print(\"delete faild\", del_num)\n",
    "    else: # delete success\n",
    "        print(del_num)\n",
    "        after_cnt += 1\n",
    "print(\"deleted_cnt:\", after_cnt)\n",
    "print(\"#####################################\")\n"
   ]
  },
  {
   "cell_type": "code",
   "execution_count": 48,
   "metadata": {
    "tags": []
   },
   "outputs": [
    {
     "output_type": "stream",
     "name": "stdout",
     "text": "100\n[7, 525, 14, 15, 22, 544, 548, 551, 39, 555, 44, 48, 560, 566, 60, 575, 93, 100, 613, 104, 112, 636, 124, 638, 129, 131, 645, 647, 651, 653, 150, 673, 164, 681, 171, 173, 690, 711, 712, 713, 715, 720, 214, 215, 217, 732, 734, 735, 227, 229, 235, 748, 749, 241, 756, 765, 256, 770, 281, 283, 284, 286, 803, 808, 817, 312, 318, 319, 832, 326, 840, 841, 842, 332, 846, 856, 348, 354, 361, 882, 371, 377, 898, 899, 419, 428, 941, 949, 957, 454, 457, 985, 476, 481, 488, 490, 491, 492, 496, 504]\n"
    }
   ],
   "source": [
    "print(len(bst_nums))\n",
    "print(bst_nums)"
   ]
  },
  {
   "cell_type": "markdown",
   "metadata": {},
   "source": [
    "### 6. 이진 탐색 트리의 시간 복잡도와 단점\n",
    "#### 6.1. 시간 복잡도 (탐색)\n",
    "- **depth** (트리의 높이)를 h라고 표기한다면 -> $O(h)$\n",
    "- n개의 노드를 가진다면, $h = log₂n$에 가까우므로, <u>시간 복잡도는 $O(log n)$</u>\n",
    "    - 참고 : 빅오 표기법에서 log n에서의 log 밑은 10이 아니라 2이다!\n",
    "    - 한번 실행시마다, 50%의 실행할 수도 있는 명령을 제거한다는 의미. 즉, 50%의 실행시간을 단축시킬 수 있다는 것을 의미\n",
    "\n",
    "#### 6.2. 이진 탐색 트리의 단점\n",
    "- 평균 시간 복잡도는 O(log n)이지만, 이는 트리가 균형잡혔을떄의 평균 시간복잡도다\n",
    "- 완전히 한쪽에 편중된 트리의 경우, 최악의 경우 링크드 리스트와 동일한 성능을 보여줌 O(n)"
   ]
  },
  {
   "cell_type": "code",
   "execution_count": null,
   "metadata": {},
   "outputs": [],
   "source": []
  }
 ]
}