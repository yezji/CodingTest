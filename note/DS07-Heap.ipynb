{
 "metadata": {
  "language_info": {
   "codemirror_mode": {
    "name": "ipython",
    "version": 3
   },
   "file_extension": ".py",
   "mimetype": "text/x-python",
   "name": "python",
   "nbconvert_exporter": "python",
   "pygments_lexer": "ipython3",
   "version": "3.5.6-final"
  },
  "orig_nbformat": 2,
  "kernelspec": {
   "name": "python_defaultSpec_1598942815221",
   "display_name": "Python 3.5.6 64-bit ('venv': venv)"
  }
 },
 "nbformat": 4,
 "nbformat_minor": 2,
 "cells": [
  {
   "cell_type": "markdown",
   "metadata": {},
   "source": [
    "# Heap"
   ]
  },
  {
   "cell_type": "markdown",
   "metadata": {},
   "source": [
    "### 1. Heap이란?\n",
    "* Heap : 데이터에서 **<u>최대값과 최소값을 빠르게</u> 찾기 위해 고안된 <u>완전 이진 트리(Complete Binary Tree)**</u>\n",
    "    - 완전 이진 트리 : 노드를 삽입할 때 최하단 좌측 노드부터 차례대로 삽입하는 트리\n",
    "\n",
    "* Heap을 사용하는 이유\n",
    "    - <u>**최대값 최소값 탐색이 빠르다** -> $O(log n)$</u>\n",
    "        - 배열로 최대값 최소값 찾으려면 $O(n)$ 소요\n",
    "        - 이에 반해, Heap으로 최대값 최소값 찾으면 $O(log n)$ 소요\n",
    "    - <u>**우선순위 큐**</u>와 같이 최대값/최소값을 빠르게 찾아야 하는 자료구조 및 알고리즘 구현 등에 활용됨"
   ]
  },
  {
   "cell_type": "markdown",
   "metadata": {},
   "source": [
    "### 2. Heap 구조\n",
    "\n",
    "* Heap의 2가지 분류\n",
    "    - 최대값을 구하기 위한 구조(=최대힙, Max Heap)\n",
    "        - 가장 큰 값이 위에 옴\n",
    "    - 최소값을 구하기 위한 구조(=최소힙, Min Heap)\n",
    "        - 가장 작은 값이 위에 옴\n",
    "\n",
    "* Heap은 다음과 같이 두 가지 조건을 가지는 자료구조\n",
    "    1. 각 노드의 값은 \n",
    "        - <u>최대힙</u>의 경우, **각 노드의 값**은 해당 노드의 **자식 노드가 가진 값**보다 **크거나 같음**\n",
    "        - <u>최소힙</u>의 경우, 각 노드의 값은 해당 노드의 자식 노드가 가진 값보다 **작거나 같음**\n",
    "    2. <u>완전 이진 트리</u> 형태를 가짐"
   ]
  },
  {
   "cell_type": "markdown",
   "metadata": {},
   "source": [
    "### Heap과 Binary Search Tree의 비교\n",
    "![Heap vs BST](img/ds_heap_vs_bst.png)\n",
    "\n",
    "* 공통점\n",
    "    - Heap과 BST 모두 Binary Tree(이진 트리)\n",
    "\n",
    "* 차이점\n",
    "    - 값의 위치\n",
    "        - Heap\n",
    "            - 각 노드의 값이 자식 노드보다 크거나 같음(Max Heap의 경우)\n",
    "                - 큰 값은 부모에 위치, 자식 노드들은 부모 노드보다 작다\n",
    "            - Heap은 BST의 조건인 자식 노드에서 작은 값은 왼쪽, 큰 값은 오른쪽이라는 조건은 없음\n",
    "            - 그렇기에 Heap의 왼쪽 및 오른쪽 자식 노드의 값은 오른쪽이 클 수도 있고, 왼쪽이 클 수도 있음\n",
    "\n",
    "        - BST\n",
    "            - 부모 노드 값을 기준으로 데이터를 넣기 때문에 왼쪽 자식 노드의 값이 가장 작고, 그 다음으로 부모 노드가 크고, 그 다음으로 오른쪽 자식 노드 값이 가장 크게 위치한다.\n",
    "\n",
    "    - 탐색의 용도\n",
    "        - Heap은 최대/최소값 검색을 위한 구조\n",
    "        - BST는 탐색을 위한 구조"
   ]
  },
  {
   "cell_type": "markdown",
   "metadata": {},
   "source": [
    "### 3. Heap의 동작\n",
    "- 데이터를 Heap 구조에 삽입, 삭제 하는 과정을 선명하게 이해하기"
   ]
  },
  {
   "cell_type": "markdown",
   "metadata": {},
   "source": [
    "#### 삽입 - 기본 동작\n",
    "- 힙은 완전 이진 트리이므로, 삽입할 노드는 기본적으로 <u>왼쪽 최하단부 노드부터 채워지는 형태</u>로 삽입\n",
    "- 완전 이진 트리 형태를 만들며 트리를 채워감\n",
    "\n",
    "#### Heap에 데이터 삽입하기 - 삽입할 데이터가 Heap의 데이터보다 클 경우 (Max Heap의 예)\n",
    "\n",
    "1. Insert\n",
    "    - 먼저 삽입된 데이터는 **완전 이진 트리 구조에 맞추어, 최하단부 왼쪽 노드부터 채워짐**\n",
    "2. Swap\n",
    "    - 채워진 노드 위치에서, **부모 노드보다 값이 클 경우, 부모 노드와 위치를 바꿔주는 작업을 반복함**\n",
    "    - 항상 부모보다 값이 크다면 루트 노드까지 올라갈 수 있음"
   ]
  },
  {
   "cell_type": "markdown",
   "metadata": {},
   "source": [
    "#### Heap의 데이터 삭제하기 - (Max Heap의 예)\n",
    "\n",
    "- 보통 삭제는 <u>최상단 노드 (Root Node)를 삭제하는 것이 일반적</u>\n",
    "    - Heap의 용도는 최대값 또는 최소값을 Root에 놓아서, 최대값과 최소값을 바로 꺼내 쓸 수 있도록 하는 것\n",
    "- 상단의 데이터 삭제시, 가장 최하단부 왼쪽에 위치한 노드 (일반적으로 가장 마지막에 추가한 노드)를 Root Node로 이동\n",
    "- Root Node의 값이 Child Node보다 작을 경우, Root Node의 Child Node 중 가장 큰 값을 가진 노드와 Root Node 위치를 바꿔주는 작업을 반복함\n",
    "\n",
    "\n",
    "1. Remove Root Node\n",
    "    - Root Node 제거\n",
    "2. Move Last Node to Root Node\n",
    "    - 가장 마지막에 들어갔던 Node를 맨 위에 Root Node로 옮김\n",
    "3. Swap\n",
    "    - 자식 노드보다 부모 노드가 값이 큰지 비교하고, 부모가 자식보다 작다면 자식노드끼리 비교해서 둘 중에 더 큰 값을 부모 자리로 올림"
   ]
  },
  {
   "cell_type": "markdown",
   "metadata": {},
   "source": [
    "### 4. Heap 구현\n",
    "\n",
    "### 힙과 배열\n",
    "\n",
    "- <u>힙 구현시 일반적으로 배열을 활용</u>\n",
    "    - 완전 이진 트리 형태를 띄기 때문\n",
    "- 배열은 index가 0번부터 시작하지만, **힙 구현의 편의를 위해 Root Node index 번호를 1로 지정하면 구현이 수월**\n",
    "\n",
    "    - 부모 노드 인덱스 번호 = 자식 노드 인덱스 번호 // 2 (몫)\n",
    "    - 왼쪽 자식 노드 인덱스 번호 = 부모 노드 인덱스 번호 * 2\n",
    "    - 오른쪽 자식 노드 인덱스 번호 = 부모 노드 인덱스 번호 * 2 + 1\n",
    "\n",
    "```\n",
    "      [1]\n",
    "     /  ＼\n",
    "  [2]     [3]\n",
    " /  ＼\n",
    "[4] [5]\n",
    "```\n"
   ]
  },
  {
   "cell_type": "code",
   "execution_count": null,
   "metadata": {
    "tags": []
   },
   "outputs": [],
   "source": [
    "idx_data = 2\n",
    "\n",
    "print(\"자식 인덱스가\", idx_data, \"일 때, 부모 인덱스는\", idx_data // 2)\n",
    "print(\"부모 인덱스가\", idx_data, \"일 때, 왼쪽자식 인덱스는\", idx_data * 2)\n",
    "print(\"부모 인덱스가\", idx_data, \"일 때, 오른쪽자식 인덱스는\", idx_data * 2 + 1)"
   ]
  },
  {
   "cell_type": "markdown",
   "metadata": {},
   "source": [
    "### 삽입 구현 (Max Heap 예)\n",
    "- 힙 클래스 구현1"
   ]
  },
  {
   "cell_type": "code",
   "execution_count": null,
   "metadata": {},
   "outputs": [],
   "source": [
    "class Heap:\n",
    "    def __init__(self, data):\n",
    "        self.heap_array = list()\n",
    "        self.heap_array.append(None) #인덱스 1번부터 쓰기 위해서 0번 채우기\n",
    "        self.heap_array.append(data)    "
   ]
  },
  {
   "cell_type": "code",
   "execution_count": null,
   "metadata": {},
   "outputs": [],
   "source": [
    "heap = Heap(1)\n",
    "heap.heap_array"
   ]
  },
  {
   "cell_type": "markdown",
   "metadata": {},
   "source": [
    "- 힙 클래스 구현2 - insert1\n",
    "    - 인덱스 번호는 1번부터 시작하도록 변경"
   ]
  },
  {
   "cell_type": "code",
   "execution_count": null,
   "metadata": {},
   "outputs": [],
   "source": [
    "class Heap:\n",
    "    def __init__(self, data):\n",
    "        self.heap_array = list()\n",
    "        self.heap_array.append(None)\n",
    "        self.heap_array.append(data)\n",
    "\n",
    "    def insert(self, data):\n",
    "        if len(self.heap_array) == 0:\n",
    "            self.heap_array.append(None)\n",
    "            self.heap_array.append(data)\n",
    "            return True\n",
    "        \n",
    "        self.heap_array.append(data)\n",
    "        return True"
   ]
  },
  {
   "cell_type": "markdown",
   "metadata": {},
   "source": [
    "- 힙 클래스 구현3 - insert2\n",
    "    - 삽입한 노드가 부모 노드 값보다 클 경우, 부모 노드와 삽입한 노드 위치를 바꿈\n",
    "    - 삽입한 노드가 루트 노드가 되거나, 부모 노드보다 값이 작거나 같을 때까지 반복"
   ]
  },
  {
   "cell_type": "code",
   "execution_count": 10,
   "metadata": {},
   "outputs": [],
   "source": [
    "class Heap:\n",
    "    def __init__(self, data):\n",
    "        self.heap_array = list()\n",
    "        self.heap_array.append(None)\n",
    "        self.heap_array.append(data)\n",
    "    \n",
    "    def move_up(self, inserted_idx):\n",
    "        if inserted_idx <= 1: #root\n",
    "            return False\n",
    "        parent_idx = inserted_idx // 2\n",
    "        if self.heap_array[inserted_idx] > self.heap_array[parent_idx]:\n",
    "            return True\n",
    "        else:\n",
    "            return False\n",
    "\n",
    "    def insert(self, data):\n",
    "        if len(self.heap_array) == 0:\n",
    "            self.heap_array.append(None)\n",
    "            self.heap_array.append(data)\n",
    "            return True\n",
    "        self.heap_array.append(data)\n",
    "\n",
    "        inserted_idx = len(self.heap_array)-1\n",
    "        while self.move_up(inserted_idx):\n",
    "            parent_idx = inserted_idx // 2\n",
    "            self.heap_array[inserted_idx], self.heap_array[parent_idx] = self.heap_array[parent_idx], self.heap_array[inserted_idx]\n",
    "            inserted_idx = parent_idx\n",
    "        return True"
   ]
  },
  {
   "cell_type": "code",
   "execution_count": 11,
   "metadata": {},
   "outputs": [
    {
     "output_type": "execute_result",
     "data": {
      "text/plain": "True"
     },
     "metadata": {},
     "execution_count": 11
    }
   ],
   "source": [
    "heap = Heap(15)\n",
    "heap.insert(10)\n",
    "heap.insert(8)\n",
    "heap.insert(5)\n",
    "heap.insert(4)"
   ]
  },
  {
   "cell_type": "code",
   "execution_count": 13,
   "metadata": {
    "tags": []
   },
   "outputs": [
    {
     "output_type": "stream",
     "name": "stdout",
     "text": "[None, 15, 10, 8, 5, 4]\n"
    }
   ],
   "source": [
    "print(heap.heap_array)"
   ]
  },
  {
   "cell_type": "code",
   "execution_count": 14,
   "metadata": {
    "tags": []
   },
   "outputs": [
    {
     "output_type": "stream",
     "name": "stdout",
     "text": "[None, 20, 10, 15, 5, 4, 8]\n"
    }
   ],
   "source": [
    "heap.insert(20)\n",
    "print(heap.heap_array)"
   ]
  },
  {
   "cell_type": "markdown",
   "metadata": {},
   "source": [
    "### 삭제 구현 (Max Heap 예)\n",
    "- 힙 클래스 구현4 - delete1\n",
    "- 보통 삭제는 최상단 노드(Root)를 삭제하는 것이 일반적임\n",
    "    - 힙의 용도는 최대값 또는 최소값을 Root에 놓아서 최대값 최소값을 바로 꺼내 쓸 수 있도록 하는 것"
   ]
  },
  {
   "cell_type": "code",
   "execution_count": 16,
   "metadata": {},
   "outputs": [],
   "source": [
    "class Heap:\n",
    "    def __init__(self, data):\n",
    "        self.heap_array = list()\n",
    "        self.heap_array.append(None)\n",
    "        self.heap_array.append(data)\n",
    "\n",
    "    def pop(self):\n",
    "        if len(self.heap_array) <= 1:\n",
    "            return None\n",
    "\n",
    "        returned_data = self.heap_array[1]\n",
    "        return returned_data"
   ]
  },
  {
   "cell_type": "markdown",
   "metadata": {},
   "source": [
    "- 힙 클래스 구현4 - delete2\n",
    "    - 상단의 데이터 삭제 시, 가장 최하단부 왼쪽에 위치한 노드 (일반적으로 가장 마지막에 추가한 노드)를 Root 노드로 이동\n",
    "    - Root 노드의 값이 Child 노드보다 작을 경우, Root 노드의 Child 노드 중 가장 큰 값을 가진 노드와 Root 노드 위치를 바꿔주는 작업을 반복"
   ]
  },
  {
   "cell_type": "code",
   "execution_count": 17,
   "metadata": {},
   "outputs": [],
   "source": [
    "class Heap:\n",
    "    def __init__(self, data):\n",
    "        self.heap_array = list()\n",
    "        self.heap_array.append(None)\n",
    "        self.heap_array.append(data)\n",
    "\n",
    "    def move_down(self, popped_idx):\n",
    "        left_child_popped_idx = popped_idx * 2\n",
    "        right_child_popped_idx = popped_idx * 2 + 1\n",
    "\n",
    "        # case1: 왼쪽자식 노드도 없을 때\n",
    "        if left_child_popped_idx >= len(self.heap_array):\n",
    "            return False\n",
    "        # case2: 오른쪽자식 노드만 없을 때\n",
    "        elif right_child_popped_idx >= len(self.heap_array):\n",
    "            if self.heap_array[popped_idx] < self.heap_array[left_child_popped_idx]:\n",
    "                return True\n",
    "            else:\n",
    "                return False\n",
    "        #case3: 왼쪽, 오른쪽 자식 노드 모두 있을 때\n",
    "        else:\n",
    "            if self.heap_array[left_child_popped_idx] > self.heap_array[right_child_popped_idx]:\n",
    "                if self.heap_array[popped_idx] < self.heap_array[left_child_popped_idx]:\n",
    "                    return True\n",
    "                else:\n",
    "                    return False\n",
    "            else:\n",
    "                if self.heap_array[popped_idx] < self.heap_array[right_child_popped_idx]:\n",
    "                    return True\n",
    "                else:\n",
    "                    return False\n",
    "\n",
    "    def pop(self):\n",
    "        if len(self.heap_array) <= 1:\n",
    "            return None\n",
    "\n",
    "        returned_data = self.heap_array[1]\n",
    "        self.heap_array[1] = self.heap_array[-1]\n",
    "        del self.heap_array[-1]\n",
    "        popped_idx = 1\n",
    "\n",
    "        while self.move_down(popped_idx):\n",
    "            left_child_popped_idx = popped_idx * 2\n",
    "            right_child_popped_idx = popped_idx * 2 + 1\n",
    "\n",
    "            # case2: 오른쪽자식 노드만 없을 때\n",
    "            if right_child_popped_idx >= len(self.heap_array):\n",
    "                if self.heap_array[popped_idx] < self.heap_array[left_child_popped_idx]:\n",
    "                    self.heap_array[popped_idx], self.heap_array[left_child_popped_idx] = self.heap_array[left_child_popped_idx], self.heap_array[popped_idx]\n",
    "                    popped_idx = left_child_popped_idx\n",
    "            #case3: 왼쪽, 오른쪽 자식 노드 모두 있을 때\n",
    "            else:\n",
    "                if self.heap_array[left_child_popped_idx] > self.heap_array[right_child_popped_idx]:\n",
    "                    if self.heap_array[popped_idx] < self.heap_array[left_child_popped_idx]:\n",
    "                        self.heap_array[popped_idx], self.heap_array[left_child_popped_idx] = self.heap_array[left_child_popped_idx], self.heap_array[popped_idx]\n",
    "                        popped_idx = left_child_popped_idx\n",
    "                else:\n",
    "                    if self.heap_array[popped_idx] < self.heap_array[right_child_popped_idx]:\n",
    "                        self.heap_array[popped_idx], self.heap_array[right_child_popped_idx] = self.heap_array[right_child_popped_idx], self.heap_array[popped_idx]\n",
    "                        popped_idx = right_child_popped_idx\n",
    "\n",
    "        return returned_data"
   ]
  },
  {
   "cell_type": "markdown",
   "metadata": {},
   "source": [
    "### 삽입+삭제 전체 코드"
   ]
  },
  {
   "cell_type": "code",
   "execution_count": 19,
   "metadata": {},
   "outputs": [],
   "source": [
    "class Heap:\n",
    "    def __init__(self, data):\n",
    "        self.heap_array = list()\n",
    "        self.heap_array.append(None)\n",
    "        self.heap_array.append(data)\n",
    "\n",
    "    def move_up(self, inserted_idx):\n",
    "        if inserted_idx <= 1: #root\n",
    "            return False\n",
    "        parent_idx = inserted_idx // 2\n",
    "        if self.heap_array[inserted_idx] > self.heap_array[parent_idx]:\n",
    "            return True\n",
    "        else:\n",
    "            return False\n",
    "\n",
    "    def insert(self, data):\n",
    "        if len(self.heap_array) == 0:\n",
    "            self.heap_array.append(None)\n",
    "            self.heap_array.append(data)\n",
    "            return True\n",
    "        self.heap_array.append(data)\n",
    "\n",
    "        inserted_idx = len(self.heap_array)-1\n",
    "        while self.move_up(inserted_idx):\n",
    "            parent_idx = inserted_idx // 2\n",
    "            self.heap_array[inserted_idx], self.heap_array[parent_idx] = self.heap_array[parent_idx], self.heap_array[inserted_idx]\n",
    "            inserted_idx = parent_idx\n",
    "        return True\n",
    "\n",
    "    def move_down(self, popped_idx):\n",
    "        left_child_popped_idx = popped_idx * 2\n",
    "        right_child_popped_idx = popped_idx * 2 + 1\n",
    "\n",
    "        # case1: 왼쪽자식 노드도 없을 때\n",
    "        if left_child_popped_idx >= len(self.heap_array):\n",
    "            return False\n",
    "        # case2: 오른쪽자식 노드만 없을 때\n",
    "        elif right_child_popped_idx >= len(self.heap_array):\n",
    "            if self.heap_array[popped_idx] < self.heap_array[left_child_popped_idx]:\n",
    "                return True\n",
    "            else:\n",
    "                return False\n",
    "        #case3: 왼쪽, 오른쪽 자식 노드 모두 있을 때\n",
    "        else:\n",
    "            if self.heap_array[left_child_popped_idx] > self.heap_array[right_child_popped_idx]:\n",
    "                if self.heap_array[popped_idx] < self.heap_array[left_child_popped_idx]:\n",
    "                    return True\n",
    "                else:\n",
    "                    return False\n",
    "            else:\n",
    "                if self.heap_array[popped_idx] < self.heap_array[right_child_popped_idx]:\n",
    "                    return True\n",
    "                else:\n",
    "                    return False\n",
    "\n",
    "    def pop(self):\n",
    "        if len(self.heap_array) <= 1:\n",
    "            return None\n",
    "\n",
    "        returned_data = self.heap_array[1]\n",
    "        self.heap_array[1] = self.heap_array[-1]\n",
    "        del self.heap_array[-1]\n",
    "        popped_idx = 1\n",
    "\n",
    "        while self.move_down(popped_idx):\n",
    "            left_child_popped_idx = popped_idx * 2\n",
    "            right_child_popped_idx = popped_idx * 2 + 1\n",
    "\n",
    "            # case2: 오른쪽자식 노드만 없을 때\n",
    "            if right_child_popped_idx >= len(self.heap_array):\n",
    "                if self.heap_array[popped_idx] < self.heap_array[left_child_popped_idx]:\n",
    "                    self.heap_array[popped_idx], self.heap_array[left_child_popped_idx] = self.heap_array[left_child_popped_idx], self.heap_array[popped_idx]\n",
    "                    popped_idx = left_child_popped_idx\n",
    "            #case3: 왼쪽, 오른쪽 자식 노드 모두 있을 때\n",
    "            else:\n",
    "                if self.heap_array[left_child_popped_idx] > self.heap_array[right_child_popped_idx]:\n",
    "                    if self.heap_array[popped_idx] < self.heap_array[left_child_popped_idx]:\n",
    "                        self.heap_array[popped_idx], self.heap_array[left_child_popped_idx] = self.heap_array[left_child_popped_idx], self.heap_array[popped_idx]\n",
    "                        popped_idx = left_child_popped_idx\n",
    "                else:\n",
    "                    if self.heap_array[popped_idx] < self.heap_array[right_child_popped_idx]:\n",
    "                        self.heap_array[popped_idx], self.heap_array[right_child_popped_idx] = self.heap_array[right_child_popped_idx], self.heap_array[popped_idx]\n",
    "                        popped_idx = right_child_popped_idx\n",
    "\n",
    "        return returned_data"
   ]
  },
  {
   "cell_type": "code",
   "execution_count": 20,
   "metadata": {
    "tags": []
   },
   "outputs": [
    {
     "output_type": "stream",
     "name": "stdout",
     "text": "[None, 20, 10, 15, 5, 4, 8]\n"
    }
   ],
   "source": [
    "heap = Heap(15)\n",
    "heap.insert(10)\n",
    "heap.insert(8)\n",
    "heap.insert(5)\n",
    "heap.insert(4)\n",
    "heap.insert(20)\n",
    "print(heap.heap_array)"
   ]
  },
  {
   "cell_type": "code",
   "execution_count": 21,
   "metadata": {},
   "outputs": [
    {
     "output_type": "execute_result",
     "data": {
      "text/plain": "20"
     },
     "metadata": {},
     "execution_count": 21
    }
   ],
   "source": [
    "heap.pop()"
   ]
  },
  {
   "cell_type": "code",
   "execution_count": 22,
   "metadata": {
    "tags": []
   },
   "outputs": [
    {
     "output_type": "stream",
     "name": "stdout",
     "text": "[None, 15, 10, 8, 5, 4]\n"
    }
   ],
   "source": [
    "print(heap.heap_array)"
   ]
  },
  {
   "cell_type": "markdown",
   "metadata": {},
   "source": [
    "### 5. Heap 시간 복잡도\n",
    "- depth(트리의 높이)를 h라고 표기한다면,\n",
    "- n개의 노드를 가지는 heap에 데이터 삽입 또는 삭제 시, 최악의 경우 Root노드에서 Leaf노드까지 비교해야하므로 $h=log₂n$에 가깝다.\n",
    "- 시간복잡도는 $O(log n)$\n",
    "    - 그래서 한번 실행시마다, 50%의 실행할 수도 있는 명령을 제거하게 됨\n",
    "    - 즉, 50%의 실행시간을 단축시킬 수 있다는 것을 의미"
   ]
  }
 ]
}