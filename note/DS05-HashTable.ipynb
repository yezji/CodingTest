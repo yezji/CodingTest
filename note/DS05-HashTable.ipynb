{
 "metadata": {
  "language_info": {
   "codemirror_mode": {
    "name": "ipython",
    "version": 3
   },
   "file_extension": ".py",
   "mimetype": "text/x-python",
   "name": "python",
   "nbconvert_exporter": "python",
   "pygments_lexer": "ipython3",
   "version": "3.5.6-final"
  },
  "orig_nbformat": 2,
  "kernelspec": {
   "name": "python_defaultSpec_1598351457951",
   "display_name": "Python 3.5.6 64-bit ('venv': venv)"
  }
 },
 "nbformat": 4,
 "nbformat_minor": 2,
 "cells": [
  {
   "cell_type": "markdown",
   "metadata": {},
   "source": [
    "# Hash Table\n",
    "### 1. 해쉬 구조\n",
    "- Hash Table : **Key에 Value를 저장**하는 데이터 구조\n",
    "    - Key를 통해 바로 데이터를 받아올 수 있으므로 <u>속도가 획기적으로 빨라짐</u>\n",
    "    - <u>파이썬 딕셔너리(Dictionary) 타입이 해쉬 테이블의 예!</u>\n",
    "        - Key를 가지고 바로 Value 꺼냄\n",
    "    - **보통 배열로 미리 Hash Table 사이즈만큼 생성 후에 사용**\n",
    "        - 공간과 탐색 시간을 맞바꾼 기법\n",
    "    - 단, 파이썬에서는 해쉬를 별도 구현할 이유가 없음 - 딕셔너리 타입을 사용하면 됨\n",
    "### 2. 알아둘 용어\n",
    "- 해쉬(Hash)\n",
    "    - 임의 값을 고정길이로 변환\n",
    "- 해쉬 테이블(Hash Table)\n",
    "    - Key값의 연산에 의해 직접 접근이 가능한 데이터 구조\n",
    "- 해싱 함수(Hashing Funtion)\n",
    "    - Key에 대해 산술 연산을 이용해 데이터 위치를 찾을 수 있는 함수\n",
    "- 해쉬 값(Hash Value) 또는 해쉬 주소(Hash Address)\n",
    "해쉬(Hash)\n",
    "    - 임의 값을 고정길이로 변환\n",
    "- 해쉬 테이블(Hash Table)\n",
    "    - Key값의 연산에 의해 직접 접근이 가능한 데이터 구조\n",
    "- 해싱 함수(Hashing Funtion)\n",
    "    - Key에 대해 산술 연산을 이용해 데이터 위치를 찾을 수 있는 함수\n",
    "- 해쉬 값(Hash Value) 또는 해쉬 주소(Hash Address)\n",
    "    - Key를 해싱 함수로 연산해서 해쉬 값을 알아내고, 이를 기반으로 해쉬 테이블에서 해당 Key에 대한 데이터 위치를 일관성있게 찾을 수 있음\n",
    "- 슬롯(Slot)\n",
    "    - 한 개의 데이터를 저장할 수 있는 공간"
   ]
  },
  {
   "cell_type": "markdown",
   "metadata": {},
   "source": [
    "### 3. 간단한 해쉬 예\n",
    "#### 3.1. Hash Table 만들기\n",
    "* 참고: 파이썬 list comprehension - https://www.fun-coding.org/PL&OOP5-2.html"
   ]
  },
  {
   "cell_type": "code",
   "execution_count": null,
   "metadata": {
    "tags": []
   },
   "outputs": [],
   "source": [
    "hash_table = list([i for i in range(10)])\n",
    "print(hash_table)"
   ]
  },
  {
   "cell_type": "markdown",
   "metadata": {},
   "source": [
    "#### 3.2. 초간단 해쉬 함수 만들기\n",
    "- 다양한 해쉬 함수 고안 기법이 있으며, 가장 간단한 방식이 Division법 (나누기를 통한 나머지 값을 사용하는 기법)"
   ]
  },
  {
   "cell_type": "code",
   "execution_count": null,
   "metadata": {},
   "outputs": [],
   "source": [
    "def hash_func(key):\n",
    "    return key % 5"
   ]
  },
  {
   "cell_type": "markdown",
   "metadata": {},
   "source": [
    "#### 3.3. 해쉬 테이블에 저장\n",
    "- 데이터에 따라 필요시 Key 생성 방법 정의가 필요\n"
   ]
  },
  {
   "cell_type": "code",
   "execution_count": null,
   "metadata": {
    "tags": []
   },
   "outputs": [],
   "source": [
    "data = ['Andy', 'Dave', 'Trump']\n",
    "\n",
    "## ord(): 문자의 ASCII 코드 리턴\n",
    "print(ord(data[0][0]), ord(data[1][0]), ord(data[2][0]))\n",
    "print(ord(data[0][0]), hash_func(ord(data[0][0])))"
   ]
  },
  {
   "cell_type": "code",
   "execution_count": null,
   "metadata": {},
   "outputs": [],
   "source": [
    "def storage_data(data, value):\n",
    "    key = ord(data[0])\n",
    "    hash_address = hash_func(key)\n",
    "    hash_table[hash_address] = value"
   ]
  },
  {
   "cell_type": "markdown",
   "metadata": {},
   "source": [
    "#### 3.4. 해쉬 테이블에서 특정 주소의 데이터를 가져오는 함수 작성"
   ]
  },
  {
   "cell_type": "code",
   "execution_count": null,
   "metadata": {},
   "outputs": [],
   "source": [
    "storage_data('Andy', '01055553333')\n",
    "storage_data('Dave', '01044443333')\n",
    "storage_data('Trump', '01022223333')"
   ]
  },
  {
   "cell_type": "markdown",
   "metadata": {},
   "source": [
    "#### 3.5. 실제 데이터를 저장하고 읽기"
   ]
  },
  {
   "cell_type": "code",
   "execution_count": null,
   "metadata": {},
   "outputs": [],
   "source": [
    "def get_data(data):\n",
    "    key = ord(data[0])\n",
    "    hash_address = hash_func(key)\n",
    "    return hash_table[hash_address]"
   ]
  },
  {
   "cell_type": "code",
   "execution_count": null,
   "metadata": {
    "tags": []
   },
   "outputs": [],
   "source": [
    "print(get_data('Andy'))"
   ]
  },
  {
   "cell_type": "markdown",
   "metadata": {},
   "source": [
    "### 4. 해쉬 테이블의 장단점과 주요 용도\n",
    "- 장점\n",
    "    - **데이터 저장/읽기 속도가 빠르다.** (검색 속도가 빠르다.)\n",
    "    - 해쉬는 **키에 대한 데이터가 있는지 중복 확인이 쉬움**\n",
    "- 단점\n",
    "    - 일반적으로 저장공간이 더 많이 필요하다.\n",
    "    - 여러 키에 해당하는 주소가 동일할 경우 **충돌을 해결하기 위한 별도의 자료구조 필요**\n",
    "    \n",
    "- 주요 용도\n",
    "    - 검색이 많이 필요한 경우\n",
    "    - 저장, 삭제, 읽기가 빈번한 경우\n",
    "    - 캐쉬 구현 시 (중복 확인이 쉽기 떄문)"
   ]
  },
  {
   "cell_type": "markdown",
   "metadata": {},
   "source": [
    "#### 연습 1 : 리스트 변수를 활용해서 해쉬 테이블 구현\n",
    "1. 해쉬 함수 : key % 8\n",
    "2. 해쉬 키 생성 : hash(data)"
   ]
  },
  {
   "cell_type": "code",
   "execution_count": null,
   "metadata": {},
   "outputs": [],
   "source": [
    "hash_table = list(0 for i in range(8))\n",
    "\n",
    "def get_key(data):\n",
    "    return hash(data)\n",
    "\n",
    "def hash_function(key):\n",
    "    return key % 8\n",
    "\n",
    "def save_data(data, value):\n",
    "    hash_address = hash_function(get_key(data))\n",
    "    hash_table[hash_address] = value\n",
    "\n",
    "def read_data(data):\n",
    "    hash_address = hash_function(get_key(data))\n",
    "    return hash_table[hash_address]"
   ]
  },
  {
   "cell_type": "code",
   "execution_count": null,
   "metadata": {},
   "outputs": [],
   "source": [
    "save_data('Dave', '01011011111')\n",
    "save_data('Andy', '01023231111')\n",
    "read_data('Dave')"
   ]
  },
  {
   "cell_type": "code",
   "execution_count": null,
   "metadata": {},
   "outputs": [],
   "source": [
    "hash_table"
   ]
  },
  {
   "cell_type": "markdown",
   "metadata": {},
   "source": [
    "### 6. 해쉬 충돌 해결(Hash Collision Resolution)\n",
    "* 두 가지 전략\n",
    "    1. Chaining 기법\n",
    "        - Open Hashing\n",
    "    2. Linear Probing 기법\n",
    "        - Close Hashing"
   ]
  },
  {
   "cell_type": "markdown",
   "metadata": {},
   "source": [
    "#### 6.1. Chaining 기법\n",
    "* **Open Hashing** 기법 중 하나\n",
    "    - 해쉬 테이블 **저장공간 외의 공간을 활용**하는 기법\n",
    "* 충돌이 일어나면, **Linked List**자료구조 사용해서 데이터를 추가로 뒤에 연결"
   ]
  },
  {
   "cell_type": "markdown",
   "metadata": {},
   "source": [
    "#### 연습 2 : 연습 1의 해쉬 테이블 코드에 Chaining 기법으로 충돌해결 코드 추가\n",
    "1. 해쉬 함수 : key % 8\n",
    "2. 해쉬 키 생성 : hash(data)"
   ]
  },
  {
   "cell_type": "code",
   "execution_count": null,
   "metadata": {},
   "outputs": [],
   "source": [
    "hash_table = list([0 for i in range(8)])\n",
    "\n",
    "def get_key(data):\n",
    "    return hash(data)\n",
    "\n",
    "def hash_function(key):\n",
    "    return key % 8\n",
    "\n",
    "def save_data(data, value):\n",
    "    index_key = get_key(data)\n",
    "    hash_address = hash_function(index_key)\n",
    "    if hash_table[hash_address] != 0:\n",
    "        for index in range(len(hash_table[hash_address])): # linked list대신에 python의 list에 append\n",
    "            if hash_table[hash_address][index][0] == index_key:\n",
    "                hash_table[hash_address][index][1] = value\n",
    "                return\n",
    "        hash_table[hash_address].append([index_key, value])\n",
    "    else:\n",
    "        hash_table[hash_address] = [[index_key, value]]\n",
    "\n",
    "def read_data(data):\n",
    "    index_key = get_key(data)\n",
    "    hash_address = hash_function(index_key)\n",
    "    if hash_table[hash_address] != 0:\n",
    "        for index in range(len(hash_table[hash_address])):\n",
    "            if hash_table[hash_address][index][0] == index_key:\n",
    "                return hash_table[hash_address][index][1]\n",
    "        return None\n",
    "    else:\n",
    "        return None"
   ]
  },
  {
   "cell_type": "code",
   "execution_count": null,
   "metadata": {
    "tags": []
   },
   "outputs": [],
   "source": [
    "save_data('Dd', '01011111111')\n",
    "save_data('Data', '01033332222')\n",
    "\n",
    "print(read_data('Dd'))\n",
    "\n",
    "print(hash_table)"
   ]
  },
  {
   "cell_type": "markdown",
   "metadata": {},
   "source": [
    "#### 6.2. Linear Probing 기법\n",
    "* **Close Hashing** 기법 중 하나\n",
    "    - 해쉬 테이블 **저장공간 안에서** 충돌 문제를 해결\n",
    "* 충돌이 일어나면, 해당 hash address의 다음 address부터 **맨 처음 나오는 빈 공간**에 저장하는 기법\n",
    "    - 장점 : 저장공간 활용도를 높이기 위한 기법"
   ]
  },
  {
   "cell_type": "markdown",
   "metadata": {},
   "source": [
    "#### 연습 3 : 연습 1의 해쉬 테이블 코드에 Linear Probing 기법으로 충돌해결 코드 추가\n",
    "1. 해쉬 함수 : key % 8\n",
    "2. 해쉬 키 생성 : hash(data)"
   ]
  },
  {
   "cell_type": "code",
   "execution_count": 65,
   "metadata": {},
   "outputs": [],
   "source": [
    "hash_table = list(0 for i in range(8))\n",
    "\n",
    "def get_key(data):\n",
    "    return hash(data)\n",
    "\n",
    "def hash_function(key):\n",
    "    return key % 8\n",
    "\n",
    "def save_data(data, value):\n",
    "    index_key = get_key(data)\n",
    "    hash_address = hash_function(index_key)\n",
    "    if hash_table[hash_address] != 0:\n",
    "        for index in range(hash_address, len(hash_table)):\n",
    "            if hash_table[index] == 0:\n",
    "                hash_table[index] = [index_key, value]\n",
    "                return\n",
    "            elif hash_table[index][0] == index_key: # 같은 키를 가지고 이미 저장된 데이터가 있다면, 값을 업데이트\n",
    "                hash_table[index][1] = value\n",
    "                return\n",
    "    else:\n",
    "        hash_table[hash_address] = [index_key, value]\n",
    "\n",
    "\n",
    "def read_data(data):\n",
    "    index_key = get_key(data)\n",
    "    hash_address = hash_function(index_key)\n",
    "    if hash_table[hash_address] != 0:\n",
    "        for index in range(hash_address, len(hash_table)):\n",
    "            if hash_table[index] == 0: # 한번도 저장되지 않은 공간이 있다는 말은 곧 내가 찾고자 한 data는 저장된적이 없다는 뜻!\n",
    "                return None\n",
    "            elif hash_table[index][0] == index_key:\n",
    "                return hash_table[index][1]\n",
    "    else:\n",
    "        return None"
   ]
  },
  {
   "cell_type": "code",
   "execution_count": 66,
   "metadata": {
    "tags": []
   },
   "outputs": [
    {
     "output_type": "stream",
     "name": "stdout",
     "text": "5\n5\n"
    }
   ],
   "source": [
    "print(hash('ds')%8)\n",
    "print(hash('dq')%8)"
   ]
  },
  {
   "cell_type": "code",
   "execution_count": 67,
   "metadata": {
    "tags": []
   },
   "outputs": [
    {
     "output_type": "stream",
     "name": "stdout",
     "text": "01011111111\n01033332222\nNone\n[0, 0, 0, 0, 0, [-9144686506475646467, '01011111111'], [-3291667736031055811, '01033332222'], 0]\n"
    }
   ],
   "source": [
    "save_data('ds', '01011111111')\n",
    "save_data('dq', '01033332222')\n",
    "\n",
    "print(read_data('ds'))\n",
    "print(read_data('dq'))\n",
    "print(read_data('dd'))\n",
    "\n",
    "print(hash_table)"
   ]
  },
  {
   "cell_type": "markdown",
   "metadata": {},
   "source": [
    "#### 연습 3 : 연습 1의 해쉬 테이블 "
   ]
  },
  {
   "cell_type": "markdown",
   "metadata": {},
   "source": [
    "#### 참고 : 해쉬 함수와 키 생성 함수\n",
    "* 파이썬의 hash()함수는 실행할 때마다 값이 달라질 수 있음\n",
    "* 유명한 해쉬함수들이 있다.\n",
    "    - SHA(Secure Hash Algorithm) : 안전한 해쉬 알고리즘\n",
    "        - 어떤 데이터도 유일한 고정된 크기의 고정 값을 반환!\n",
    "        - 해쉬 함수로 유용하게 활용 가능\n",
    "        - 변환된 해쉬 값으로 원래 데이터가 무엇인지 추론 불가\n",
    "        - 블록체인에서 사용됨"
   ]
  },
  {
   "cell_type": "markdown",
   "metadata": {},
   "source": [
    "#### SHA-1\n",
    "* 문자열이 몇자던 간에 고정된 길이로 출력된다"
   ]
  },
  {
   "cell_type": "code",
   "execution_count": 70,
   "metadata": {
    "tags": []
   },
   "outputs": [
    {
     "output_type": "stream",
     "name": "stdout",
     "text": "a94a8fe5ccb19ba61c4c0873d391e987982fbbd3\n"
    }
   ],
   "source": [
    "import hashlib\n",
    "\n",
    "data = 'test'.encode() # encode() : string을 byte로 바꿔줌\n",
    "\n",
    "hash_object = hashlib.sha1()\n",
    "hash_object.update(data) # hash_object.update(b'test')도 가능\n",
    "\n",
    "hex_dig = hash_object.hexdigest() # 16진수로 추출\n",
    "\n",
    "print(hex_dig)"
   ]
  },
  {
   "cell_type": "markdown",
   "metadata": {},
   "source": [
    "#### SHA-256\n",
    "* SHA-1보다 긴 길이로 출력"
   ]
  },
  {
   "cell_type": "code",
   "execution_count": 71,
   "metadata": {
    "tags": []
   },
   "outputs": [
    {
     "output_type": "stream",
     "name": "stdout",
     "text": "9f86d081884c7d659a2feaa0c55ad015a3bf4f1b2b0b822cd15d6c15b0f00a08\n"
    }
   ],
   "source": [
    "import hashlib\n",
    "\n",
    "data = 'test'.encode()\n",
    "\n",
    "hash_object = hashlib.sha256()\n",
    "hash_object.update(data)\n",
    "\n",
    "hex_dig = hash_object.hexdigest()\n",
    "\n",
    "print(hex_dig)"
   ]
  },
  {
   "cell_type": "markdown",
   "metadata": {},
   "source": [
    "#### 연습 4 : 연습 2의 Chaining 기법을 적용한 해쉬 테이블 코드에 키 생성 함수를 SHA256 해쉬 알고리즘을 사용하도록 변경해보기\n",
    "1. 해쉬 함수 : key % 8\n",
    "2. 해쉬 키 생성 : hash(data)"
   ]
  },
  {
   "cell_type": "code",
   "execution_count": 78,
   "metadata": {},
   "outputs": [],
   "source": [
    "import hashlib\n",
    "\n",
    "hash_table = list([0 for i in range(8)])\n",
    "\n",
    "def get_key(data):\n",
    "    hash_object = hashlib.sha256()\n",
    "    hash_object.update(data.encode())\n",
    "    hex_dig = hash_object.hexdigest()\n",
    "    return int(hex_dig, 16)\n",
    "\n",
    "def hash_function(key):\n",
    "    return key % 8\n",
    "\n",
    "def save_data(data, value):\n",
    "    index_key = get_key(data)\n",
    "    hash_address = hash_function(index_key)\n",
    "    if hash_table[hash_address] != 0:\n",
    "        for index in range(len(hash_table[hash_address])): # linked list대신에 python의 list에 append\n",
    "            if hash_table[hash_address][index][0] == index_key:\n",
    "                hash_table[hash_address][index][1] = value\n",
    "                return\n",
    "        hash_table[hash_address].append([index_key, value])\n",
    "    else:\n",
    "        hash_table[hash_address] = [[index_key, value]]\n",
    "\n",
    "def read_data(data):\n",
    "    index_key = get_key(data)\n",
    "    hash_address = hash_function(index_key)\n",
    "    if hash_table[hash_address] != 0:\n",
    "        for index in range(len(hash_table[hash_address])):\n",
    "            if hash_table[hash_address][index][0] == index_key:\n",
    "                return hash_table[hash_address][index][1]\n",
    "        return None\n",
    "    else:\n",
    "        return None"
   ]
  },
  {
   "cell_type": "code",
   "execution_count": 80,
   "metadata": {
    "tags": []
   },
   "outputs": [
    {
     "output_type": "stream",
     "name": "stdout",
     "text": "1\n2\n2\n3\n"
    }
   ],
   "source": [
    "print(get_key('db') % 8)\n",
    "print(get_key('da') % 8)\n",
    "print(get_key('dh') % 8)\n",
    "print(get_key('dd') % 8)"
   ]
  },
  {
   "cell_type": "code",
   "execution_count": 81,
   "metadata": {
    "tags": []
   },
   "outputs": [
    {
     "output_type": "stream",
     "name": "stdout",
     "text": "01011111111\n01033332222\nNone\n[0, 0, [[77049896039817716104633086125973601665927154587286664305423403838091909979274, '01011111111'], [25902807790238191969936164090115518991880572428612380032453909518048593055890, '01033332222']], 0, 0, 0, 0, 0]\n"
    }
   ],
   "source": [
    "save_data('da', '01011111111')\n",
    "save_data('dh', '01033332222')\n",
    "\n",
    "print(read_data('da'))\n",
    "print(read_data('dh'))\n",
    "print(read_data('db'))\n",
    "\n",
    "print(hash_table)"
   ]
  },
  {
   "cell_type": "markdown",
   "metadata": {},
   "source": [
    "### 7. 시간 복잡도\n",
    "* 일반적인 경우(Collision 없는 경우) : **O(1)**\n",
    "* 최악의 경우(Collision이 모두 발생하는 경우) : **O(n)**\n",
    "\n",
    "- 해쉬 테이블의 경우, 일반적인 경우를 기대하고 만들기 때문에 시간 복잡도는 O(1)이라고 말할 수 있다.\n",
    "\n",
    "### 검색에서 해쉬 테이블의 사용 예\n",
    "* 16개의 **배열**에 데이터를 저장하고 검색할 때 : **O(n)**\n",
    "* 16개의 데이터 저장공간을 가진 위의 **해쉬 테이블**에 데이터를 저장하고 검색할 때 : **O(1)**"
   ]
  },
  {
   "cell_type": "markdown",
   "metadata": {},
   "source": [
    "#### 6.3. 빈번한 충돌을 개선하는 기법\n",
    "* 해쉬 함수를 재정의 및 해쉬 테이블 저장공간을 확대\n",
    "    - 보통은 저장할 slot의 2배 정도를 확대한다\n",
    "* 예시 : \n",
    "    ```python\n",
    "    hash_table = list([None for i in range(16)])\n",
    "    def hash_function(key):\n",
    "        return key % 16\n",
    "    ```"
   ]
  },
  {
   "cell_type": "code",
   "execution_count": null,
   "metadata": {},
   "outputs": [],
   "source": []
  },
  {
   "cell_type": "code",
   "execution_count": null,
   "metadata": {},
   "outputs": [],
   "source": []
  }
 ]
}